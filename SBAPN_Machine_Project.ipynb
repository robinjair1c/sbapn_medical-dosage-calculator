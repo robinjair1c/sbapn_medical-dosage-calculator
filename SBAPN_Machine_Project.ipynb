{
  "cells": [
    {
      "cell_type": "markdown",
      "id": "696b0931-2a05-4eb1-8f26-71d818d37996",
      "metadata": {
        "id": "696b0931-2a05-4eb1-8f26-71d818d37996"
      },
      "source": [
        "# <font color=\"952EA0\">Medical Dosage Calculation Interpreter\n",
        "</font>\n",
        "\n",
        "## CSS125L - Principles of Programming Languages Laboratory\n",
        "### Machine Project\n",
        "\n",
        "**Group: Software Bros And Programming Nerds (SBAPN)**\n",
        "\n",
        "**Members:**\n",
        "- Besario, Adrian\n",
        "- Macatangay, Robin\n",
        "- Magat, Rolando\n",
        "- Villosa, Emmanuel\n",
        "\n",
        "**Section:** [CSS125L-AM3]  \n",
        "**Date:** [10/28/2025]\n",
        "\n",
        "**Streamlit Application:** https://sbapn-medical-dosage-calculator.streamlit.app/\n"
      ]
    },
    {
      "cell_type": "markdown",
      "id": "70199d8d-ba70-4f67-8b79-c5dc060b1e1e",
      "metadata": {
        "id": "70199d8d-ba70-4f67-8b79-c5dc060b1e1e"
      },
      "source": [
        "---\n",
        "## Section 1: Introduction to the Problem/Task and Interpreter System\n",
        "\n",
        "### What is an Interpreter System?\n",
        "\n",
        "An **interpreter system** is a computational tool that reads, analyzes, and executes commands written in a specialized language, producing immediate results without requiring compilation. Unlike compilers that translate entire programs into machine code before execution, interpreters process instructions line-by-line or command-by-command, making them ideal for interactive applications, scripting environments, and domain-specific tasks.\n",
        "\n",
        "Interpreters are fundamental to modern computing and are used extensively in:\n",
        "- **Scripting languages** (Python, JavaScript, Ruby)\n",
        "- **Command-line shells** (Bash, PowerShell)\n",
        "- **Domain-specific languages** (SQL, MATLAB, R)\n",
        "- **Configuration and rule engines** (business logic systems, smart home automation)\n",
        "\n",
        "### The Chosen System: Medical Prescription Interpreter\n",
        "\n",
        "For this project, we have designed and implemented a **Medical Prescription Interpreter** — a specialized domain-specific language (DSL) interpreter for healthcare professionals to calculate medication dosages, check drug interactions, validate prescriptions, and manage patient medication regimens.\n",
        "\n",
        "### Real-World Applications and Justification\n",
        "\n",
        "The medical field requires precise, safe, and efficient handling of medication prescriptions. Errors in dosage calculation, missed drug interactions, or failure to account for patient-specific factors (age, weight, kidney function) can have serious consequences. Our interpreter addresses these challenges by:\n",
        "\n",
        "1. **Automating Dose Calculations**: Computing appropriate medication doses based on patient weight, age, and medical conditions while enforcing safety limits.\n",
        "2. **Checking Drug Interactions**: Identifying potentially dangerous combinations of medications.\n",
        "3. **Validating Prescriptions**: Verifying that prescribed doses fall within safe therapeutic ranges.\n",
        "4. **Managing Patient Regimens**: Tracking and reporting medication histories for individual patients.\n",
        "5. **Enforcing Safety Alerts**: Raising warnings when computed doses exceed established safety thresholds.\n",
        "\n",
        "This interpreter serves as a **clinical decision support tool** that can be integrated into electronic health record (EHR) systems, pharmacy management software, or standalone medical applications.\n",
        "\n",
        "### Target Tasks\n",
        "\n",
        "The interpreter is designed to execute structured commands that healthcare professionals can use to:\n",
        "- Calculate personalized medication doses\n",
        "- Assess drug-drug interactions\n",
        "- Adjust doses for special populations (elderly, renal impairment)\n",
        "- Validate prescriptions against safety guidelines\n",
        "- Set up automated safety alerts"
      ]
    },
    {
      "cell_type": "markdown",
      "id": "ca3cda53-1b65-4f25-8700-0d5164a66408",
      "metadata": {
        "id": "ca3cda53-1b65-4f25-8700-0d5164a66408"
      },
      "source": [
        "---\n",
        "## Section 2: Description of the Input Language\n",
        "\n",
        "### Overview and Design Rationale\n",
        "\n",
        "The **Medical Prescription Language (MPL)** is a declarative, English-like command language designed for medical professionals who may not have programming expertise. The language prioritizes:\n",
        "- **Readability**: Commands use natural medical terminology\n",
        "- **Safety**: Built-in validation and error checking\n",
        "- **Clarity**: Explicit parameter naming (no positional ambiguity)\n",
        "- **Extensibility**: Easy to add new drugs and rules\n",
        "\n",
        "### Inspiration\n",
        "\n",
        "The language draws inspiration from:\n",
        "- **SQL**: Declarative syntax with clear command verbs\n",
        "- **Clinical prescription notation**: Familiar medical terminology\n",
        "- **Configuration languages**: Key-value parameter specification\n",
        "\n",
        "### Language Structure\n",
        "\n",
        "#### **Tokens (Lexical Elements)**\n",
        "\n",
        "The interpreter recognizes the following token types:\n",
        "\n",
        "| Token Type | Description | Examples |\n",
        "|------------|-------------|----------|\n",
        "| **KEYWORD** | Reserved command words | `CALCULATE`, `CHECK`, `VALIDATE`, `ADJUST`, `REPORT`, `ALERT` |\n",
        "| **IDENT** | Identifiers (drug names, conditions, parameters) | `amlodipine`, `hypertension`|\n",
        "| **NUMBER** | Numeric literals | `5`, `70.5`, `100` |\n",
        "| **UNIT** | Measurement units | `mg`, `kg`, `mg/kg/day`, `mcg` |\n",
        "| **EQUALS** | Assignment operator | `=` |\n",
        "| **COMMA** | Parameter separator | `,` |\n",
        "| **AND** | Logical conjunction | `AND` |\n",
        "\n",
        "#### **Grammar and Syntax**\n",
        "\n",
        "The language supports six primary command types:\n",
        "\n",
        "**1. CALCULATE DOSE FOR**\n",
        "```\n",
        "CALCULATE DOSE FOR <parameter>=<value>, <parameter>=<value>, ...\n",
        "```\n",
        "Computes recommended medication dosage based on patient parameters.\n",
        "\n",
        "**2. CHECK INTERACTION BETWEEN**\n",
        "```\n",
        "CHECK INTERACTION BETWEEN <drug_a> AND <drug_b>\n",
        "```\n",
        "Checks for known drug-drug interactions.\n",
        "\n",
        "**3. ADJUST DOSE FOR**\n",
        "```\n",
        "ADJUST DOSE FOR <parameter>=<value>, ...\n",
        "```\n",
        "Recalculates dose with patient-specific adjustments (age, renal function).\n",
        "\n",
        "**4. VALIDATE PRESCRIPTION**\n",
        "```\n",
        "VALIDATE PRESCRIPTION <parameter>=<value>, ...\n",
        "```\n",
        "Verifies that a prescribed dose is within safe limits.\n",
        "\n",
        "**5. ALERT WHEN DOSE EXCEEDS SAFETY_LIMIT**\n",
        "```\n",
        "ALERT WHEN DOSE EXCEEDS SAFETY_LIMIT\n",
        "```\n",
        "Configures automated safety threshold monitoring.\n",
        "\n",
        "### Valid Input Examples\n",
        "\n",
        "```\n",
        "CALCULATE DOSE FOR drug=metformin, condition=diabetes, weight=70kg, age=45\n",
        "\n",
        "CHECK INTERACTION BETWEEN amlodipine AND losartan\n",
        "\n",
        "VALIDATE PRESCRIPTION drug=amlodipine, dose=15mg\n",
        "\n",
        "ADJUST DOSE FOR drug=losartan, condition=hypertension, age=72, kidney_function=impaired\n",
        "```\n",
        "\n",
        "### Invalid Input Examples and Error Responses\n",
        "\n",
        "| Invalid Input | Error Type | Response |\n",
        "|---------------|------------|----------|\n",
        "| `COMPUTE DOSE FOR drug=aspirin` | **Lexical/Parse Error** | `Unknown command starting at position 0: 'COMPUTE'` |\n",
        "| `CALCULATE DOSE FOR drug=unknowndrug, condition=fever` | **Execution Error** | `Unknown drug: unknowndrug` |\n",
        "| `CHECK INTERACTION amlodipine losartan` | **Parse Error** | `Expected keyword 'BETWEEN' at position ...` |\n",
        "| `VALIDATE PRESCRIPTION dose=5000mg` | **Execution Error** | `Missing parameter: drug` |\n",
        "\n",
        "### Syntax Rules\n",
        "\n",
        "1. **Keywords are case-insensitive** during lexing but normalized to uppercase\n",
        "2. **Parameter names and drug names are case-insensitive**\n",
        "3. **Whitespace is ignored** (except within identifiers)\n",
        "4. **Parameters use key=value format**\n",
        "5. **Multiple parameters are comma-separated**\n",
        "6. **Units must immediately follow numbers** (no space)"
      ]
    },
    {
      "cell_type": "markdown",
      "id": "48385031-ac04-455a-84ad-ea4b2cccb60f",
      "metadata": {
        "id": "48385031-ac04-455a-84ad-ea4b2cccb60f"
      },
      "source": [
        "---\n",
        "## Section 3: System Design\n",
        "\n",
        "### Python Libraries and Modules\n",
        "\n",
        "#### **Built-in Libraries**\n",
        "- **`re`** (Regular Expressions): Used in the lexer for pattern matching and tokenization\n",
        "- **`dataclasses`**: Provides clean data structure definitions for tokens, AST nodes, and rules\n",
        "- **`enum`**: Defines token type enumerations\n",
        "- **`typing`**: Type hints for better code clarity and IDE support\n",
        "- **`json`**: Persisting patient regimen data\n",
        "- **`os`**: File system operations for state management\n",
        "\n",
        "#### **Third-Party Libraries**\n",
        "None. This interpreter is built entirely using Python's standard library to ensure portability and minimize dependencies."
      ]
    },
    {
      "cell_type": "markdown",
      "id": "76279cf0-e9c6-450a-82aa-664388d404a4",
      "metadata": {
        "id": "76279cf0-e9c6-450a-82aa-664388d404a4"
      },
      "source": [
        "---\n",
        "## Section 4: System Architecture\n",
        "\n",
        "### Interpreter Pipeline Overview\n",
        "\n",
        "Our medical prescription interpreter follows the **classic interpreter architecture** with four distinct phases:\n",
        "\n",
        "![chart updated.png](data:image/png;base64,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)\n",
        "\n",
        "### Component Breakdown\n",
        "\n",
        "#### **1. Lexer (Tokenizer)**\n",
        "- **Purpose**: Converts raw text input into a sequence of tokens\n",
        "- **Implementation**: Uses regular expressions to identify keywords, identifiers, numbers, units, and operators\n",
        "- **Error Handling**: Raises `LexicalError` for unrecognized characters\n",
        "\n",
        "#### **2. Parser**\n",
        "- **Purpose**: Validates command structure and builds an Abstract Syntax Tree (AST)\n",
        "- **Parsing Method**: **Recursive Descent Parser** — simple, readable, and appropriate for our command-based grammar\n",
        "- **Output**: Command objects (e.g., `CalculateDose`, `CheckInteraction`)\n",
        "- **Error Handling**: Raises `ParseError` for syntax violations\n",
        "\n",
        "#### **3. Abstract Syntax Tree (AST)**\n",
        "- **Purpose**: Represents parsed commands as structured data objects\n",
        "- **Design**: Uses Python dataclasses for clean, immutable command representations\n",
        "- **Node Types**: Each command type has its own AST node class\n",
        "\n",
        "#### **4. Executor (Interpreter Engine)**\n",
        "- **Purpose**: Executes validated commands and produces results\n",
        "- **Components**:\n",
        "  - **Context Normalization**: Standardizes and validates input parameters\n",
        "  - **Drug Rules Engine**: Applies medication-specific dosing algorithms\n",
        "  - **Interaction Database**: Checks drug combinations for safety concerns\n",
        "  - **State Management**: Tracks patient regimens using persistent JSON storage\n",
        "- **Error Handling**: Raises `ExecutionError`, `UnknownDrugError`, `SafetyLimitExceeded`\n",
        "\n",
        "### Data Flow\n",
        "\n",
        "1. **Input**: User enters a command string\n",
        "2. **Lexical Analysis**: Lexer tokenizes the input\n",
        "3. **Parsing**: Parser validates syntax and builds AST\n",
        "4. **Execution**: Executor processes the command using domain rules\n",
        "5. **Output**: Results are returned as structured dictionaries or errors are raised\n",
        "\n",
        "### Error Handling Strategy\n",
        "\n",
        "We implement a **hierarchical error system** with custom exception classes:\n",
        "\n",
        "```\n",
        "InterpreterError (base)\n",
        "├── LexicalError      (invalid characters, unexpected tokens)\n",
        "├── ParseError        (syntax violations, malformed commands)\n",
        "└── ExecutionError    (runtime errors)\n",
        "    ├── UnknownDrugError\n",
        "    ├── UnknownConditionError\n",
        "    └── SafetyLimitExceeded\n",
        "```\n",
        "\n",
        "**Design Decision**: Using custom exceptions allows precise error identification and enables the system to provide meaningful, context-specific error messages to users.\n",
        "\n",
        "### Design Justifications\n",
        "\n",
        "**Why Recursive Descent Parsing?**\n",
        "- Simple to implement and understand\n",
        "- Matches the command-based structure of our language\n",
        "- No need for complex parser generators\n",
        "- Easy to extend with new commands\n",
        "\n",
        "**Why Inline Drug Rules?**\n",
        "- Fast lookup without database overhead\n",
        "- Easy to version control and audit\n",
        "- Suitable for demonstration purposes\n",
        "- Can be migrated to a database for production use\n",
        "\n",
        "**Why JSON State Storage?**\n",
        "- Human-readable for debugging\n",
        "- No external database dependencies\n",
        "- Sufficient for project scope\n",
        "- Easy to reset for testing"
      ]
    },
    {
      "cell_type": "markdown",
      "source": [
        "### Symbol Table – Medical Dosage Calculation Interpreter\n",
        "\n",
        "| Symbol / Variable Name | Type | Scope / Module | Description / Purpose |\n",
        "|-------------------------|------|----------------|------------------------|\n",
        "| command_input | String | User Command | Stores the raw user command entered (e.g., “CALCULATE dose FOR drug=metformin, condition=diabetes”). |\n",
        "| tokens[] | List of Token objects | Lexer | Holds the tokenized components of the command such as keywords, identifiers, and values. |\n",
        "| TokenType | Enum | Lexer | Defines token categories (e.g., KEYWORD, IDENT, NUMBER, UNIT). |\n",
        "| Token.lexeme | String | Lexer | The actual string value of each token. |\n",
        "| Token.pos | Integer | Lexer | Position index of the token in the input string, used for error reporting. |\n",
        "| ast_node | Object | Parser | Represents the parsed structure (AST) of the command. |\n",
        "| params{} | Dictionary | Parser / Validator | Key-value pairs from the command (e.g., drug, weight, condition). |\n",
        "| drug | String | Validator / Executor | Drug name input; checked against DRUG_RULES. |\n",
        "| condition | String | Validator / Executor | Patient condition used for dosage logic. |\n",
        "| weight | Float | Validator / Executor | Patient weight in kilograms. |\n",
        "| age | Integer | Validator / Executor | Determines elderly dose adjustment. |\n",
        "| kidney_function | String | Validator / Executor | Parameter for renal dose adjustments. |\n",
        "| DRUG_RULES | Dictionary | Validator / Executor | Database of drug formulas, safe ranges, and factors. |\n",
        "| INTERACTIONS | Dictionary | Validator / Safety Check | Stores known drug-drug interaction pairs. |\n",
        "| safe_range_mg_day | Tuple(Float, Float) | Executor | Minimum and maximum safe daily dose. |\n",
        "| recommended_mg_per_day | Float | Executor | Computed daily dose after adjustments. |\n",
        "| alert_message | String | Safety / Error Handling | Safety warning if dose exceeds limits. |\n",
        "| error_type | Enum | Error Handling | Type of error (Lexical, Parse, Execution). |\n",
        "| error_message | String | Error Handling | Description of the error message. |\n",
        "| output_result | Dictionary | Output | Contains the final results, alerts, or reports. |\n"
      ],
      "metadata": {
        "id": "ISCeZAeDecZJ"
      },
      "id": "ISCeZAeDecZJ"
    },
    {
      "cell_type": "markdown",
      "source": [
        "### Symbol Flow Across the Interpreter Pipeline\n",
        "\n",
        "| **Stage**        | **Input Symbols**                                  | **Output Symbols**                               | **Process Description** |\n",
        "|------------------|----------------------------------------------------|--------------------------------------------------|-------------------------|\n",
        "| **User Command** | `command_input`                                    | →                                                | The user types a command (e.g., \"CALCULATE DOSE FOR drug=metformin, weight=70kg\"). |\n",
        "| **Lexer**        | `command_input`                                    | `tokens[]`, `TokenType`, `lexeme`, `pos`         | The lexer tokenizes the input into keywords, parameters, and values, e.g., \"drug=metformin\". |\n",
        "| **Parser**       | `tokens[]`                                         | `ast_node`, `params{}`                           | The parser validates the syntax and builds an Abstract Syntax Tree (AST) from tokens. |\n",
        "| **Validator**    | `params{}`, `drug`, `condition`, `weight`, `age`, `kidney_function` | `validated_params{}`                             | The validator checks if all parameters are valid (e.g., valid drug names and condition). |\n",
        "| **Executor**     | `validated_params{}`, `DRUG_RULES`, `INTERACTIONS` | `recommended_mg_per_day`, `safe_range_mg_day`, `alert_message` | The executor calculates the dosage based on patient data, applies medical rules, and checks for drug interactions. |\n",
        "| **Safety Check** | `recommended_mg_per_day`, `alert_message`, `error_type` | `output_result`                                  | The system checks if the calculated dose is safe and whether any drug interactions exist, raising alerts if necessary. |\n",
        "| **Output**       | `output_result`                                    | Display to User                                  | Displays the calculated dose, alerts, or reports based on the command and validation. |\n"
      ],
      "metadata": {
        "id": "2VmD7HR2gF3V"
      },
      "id": "2VmD7HR2gF3V"
    },
    {
      "cell_type": "markdown",
      "id": "ebc2f23f-9659-412a-8e22-57ed6904e727",
      "metadata": {
        "id": "ebc2f23f-9659-412a-8e22-57ed6904e727"
      },
      "source": [
        "---\n",
        "## Section 5: Implementation Details\n",
        "\n",
        "### 5.1 Token Definitions (`tokens.py`)\n",
        "\n",
        "The token system defines all lexical elements recognized by our interpreter. Each token carries three pieces of information:\n",
        "- **Type**: What category the token belongs to (keyword, identifier, number, etc.)\n",
        "- **Lexeme**: The actual text content\n",
        "- **Position**: Character position in the input (for error reporting)"
      ]
    },
    {
      "cell_type": "code",
      "source": [
        "from dataclasses import dataclass\n",
        "from enum import Enum, auto\n",
        "\n",
        "class TokenType(Enum):\n",
        "    EQUALS = auto()\n",
        "    COMMA = auto()\n",
        "    NUMBER = auto()\n",
        "    UNIT = auto()\n",
        "    IDENT = auto()\n",
        "    KEYWORD = auto()\n",
        "    AND = auto()\n",
        "    EOF = auto()\n",
        "\n",
        "@dataclass\n",
        "class Token:\n",
        "    type: TokenType\n",
        "    lexeme: str\n",
        "    pos: int"
      ],
      "metadata": {
        "id": "Y5SnUxEIa12r"
      },
      "id": "Y5SnUxEIa12r",
      "execution_count": 52,
      "outputs": []
    },
    {
      "cell_type": "markdown",
      "id": "6073b972-7bca-40b1-9f73-c603e245b6a6",
      "metadata": {
        "id": "6073b972-7bca-40b1-9f73-c603e245b6a6"
      },
      "source": [
        "### 5.2 Lexer (Tokenizer) Implementation (`lexer.py`)\n",
        "\n",
        "The lexer performs **lexical analysis** by scanning the input string and converting it into a sequence of tokens.\n",
        "\n",
        "**Key Features**:\n",
        "- **Regex-based tokenization**: Uses compiled regular expressions for efficient pattern matching\n",
        "- **Longest match principle**: Prioritizes longer tokens (e.g., `mg/kg/day` over `mg`)\n",
        "- **Keyword recognition**: Distinguishes reserved words from identifiers\n",
        "- **Position tracking**: Records character positions for error messages\n",
        "\n",
        "**Algorithm**: The lexer uses a single compiled regex with named groups, matching tokens from left to right."
      ]
    },
    {
      "cell_type": "code",
      "execution_count": 53,
      "id": "82ee84f1-da1a-4dfb-a2bb-13c15fe795fe",
      "metadata": {
        "id": "82ee84f1-da1a-4dfb-a2bb-13c15fe795fe"
      },
      "outputs": [],
      "source": [
        "import re\n",
        "from tokens import Token, TokenType\n",
        "from errors import LexicalError\n",
        "\n",
        "KEYWORDS = {\n",
        "    \"CALCULATE\",\"DOSE\",\"FOR\",\"PATIENT\",\"DRUG\",\"CONDITION\",\"WEIGHT\",\"AGE\",\"KIDNEY_FUNCTION\",\n",
        "    \"CHECK\",\"INTERACTION\",\"BETWEEN\",\"AND\",\n",
        "    \"ADJUST\",\n",
        "    \"VALIDATE\",\"PRESCRIPTION\",\n",
        "    \"ALERT\",\"WHEN\",\"EXCEEDS\",\"SAFETY_LIMIT\",\n",
        "}\n",
        "\n",
        "UNITS = {\"kg\",\"mg\",\"mcg\",\"g\",\"ml\",\"mg/kg/day\",\"mg/kg/dose\",\"mg/day\",\"mcg/day\",\"mg/dose\"}\n",
        "\n",
        "_token_spec = [\n",
        "    (\"SKIP\",   r\"[ \\t]+\"),\n",
        "    (\"COMMA\",  r\",\"),\n",
        "    (\"EQUALS\", r\"=\"),\n",
        "    (\"NUMBER\", r\"\\d+(?:\\.\\d+)?\"),\n",
        "    (\"UNIT\",   r\"(?:mg/kg/day|mg/kg/dose|mg/day|mcg/day|mg/dose|kg|mg|mcg|g|ml)\\b\"),\n",
        "    (\"WORD\",   r\"[A-Za-z_][A-Za-z0-9_\\-]*\"),\n",
        "    (\"MISMATCH\", r\".\"),\n",
        "]\n",
        "_tok_re = re.compile(\"|\".join(f\"(?P<{n}>{r})\" for n,r in _token_spec))\n",
        "\n",
        "def is_keyword(word: str) -> bool:\n",
        "    return word in KEYWORDS\n",
        "\n",
        "def lex(source: str):\n",
        "    tokens = []\n",
        "    for m in _tok_re.finditer(source):\n",
        "        kind = m.lastgroup\n",
        "        lexeme = m.group()\n",
        "        pos = m.start()\n",
        "        if kind == \"SKIP\":\n",
        "            continue\n",
        "        if kind == \"COMMA\":\n",
        "            tokens.append(Token(TokenType.COMMA, lexeme, pos))\n",
        "        elif kind == \"EQUALS\":\n",
        "            tokens.append(Token(TokenType.EQUALS, lexeme, pos))\n",
        "        elif kind == \"NUMBER\":\n",
        "            tokens.append(Token(TokenType.NUMBER, lexeme, pos))\n",
        "        elif kind == \"UNIT\":\n",
        "            tokens.append(Token(TokenType.UNIT, lexeme, pos))\n",
        "        elif kind == \"WORD\":\n",
        "            if lexeme.upper() in KEYWORDS:\n",
        "                t = Token(TokenType.KEYWORD, lexeme.upper(), pos)\n",
        "                if lexeme.upper() == \"AND\":\n",
        "                    t = Token(TokenType.AND, lexeme.upper(), pos)\n",
        "                tokens.append(t)\n",
        "            else:\n",
        "                tokens.append(Token(TokenType.IDENT, lexeme.lower(), pos))\n",
        "        elif kind == \"MISMATCH\":\n",
        "            raise LexicalError(f\"Unexpected character {lexeme!r} at {pos}\")\n",
        "    tokens.append(Token(TokenType.EOF, \"\", len(source)))\n",
        "    return tokens\n"
      ]
    },
    {
      "cell_type": "markdown",
      "id": "2e7f9ff9-c674-4046-a65f-3fa78d18b03e",
      "metadata": {
        "id": "2e7f9ff9-c674-4046-a65f-3fa78d18b03e"
      },
      "source": [
        "### 5.3 Parser Implementation (`parser.py`)\n",
        "\n",
        "The parser performs **syntax analysis** by validating the token stream and building an Abstract Syntax Tree (AST).\n",
        "\n",
        "**Parsing Method**: **Recursive Descent** — a top-down parsing technique where each grammar rule corresponds to a function.\n",
        "\n",
        "**Key Components**:\n",
        "- **`peek()`**: Look at the current token without consuming it\n",
        "- **`advance()`**: Consume the current token and move to the next\n",
        "- **`match_keyword()`**: Check if current token is a specific keyword\n",
        "- **`expect()`**: Require a specific token type or raise error\n",
        "\n",
        "**Grammar Productions**:\n",
        "```\n",
        "Command := CALCULATE_DOSE | CHECK_INTERACTION | ADJUST_DOSE |\n",
        "           VALIDATE_PRESCRIPTION | REPORT_REGIMEN | ALERT_THRESHOLD\n",
        "\n",
        "CALCULATE_DOSE := \"CALCULATE\" \"DOSE\" \"FOR\" ParamList\n",
        "CHECK_INTERACTION := \"CHECK\" \"INTERACTION\" \"BETWEEN\" Ident \"AND\" Ident\n",
        "ParamList := Param (\",\" Param)*\n",
        "Param := Ident \"=\" Value\n",
        "Value := Number Unit? | Ident\n",
        "```"
      ]
    },
    {
      "cell_type": "code",
      "execution_count": 54,
      "id": "7ff4e6cc-eb9b-49b9-981b-9e25d241f75e",
      "metadata": {
        "id": "7ff4e6cc-eb9b-49b9-981b-9e25d241f75e"
      },
      "outputs": [],
      "source": [
        "from __future__ import annotations\n",
        "from typing import List, Dict\n",
        "from tokens import Token, TokenType\n",
        "from errors import ParseError\n",
        "from ast_nodes import *\n",
        "\n",
        "class Parser:\n",
        "    def __init__(self, tokens: List[Token]):\n",
        "        self.tokens = tokens\n",
        "        self.i = 0\n",
        "\n",
        "    def peek(self) -> Token:\n",
        "        return self.tokens[self.i]\n",
        "\n",
        "    def advance(self) -> Token:\n",
        "        t = self.tokens[self.i]\n",
        "        self.i += 1\n",
        "        return t\n",
        "\n",
        "    def match_keyword(self, *keys: str) -> bool:\n",
        "        if self.peek().type == TokenType.KEYWORD and self.peek().lexeme in keys:\n",
        "            self.advance()\n",
        "            return True\n",
        "        return False\n",
        "\n",
        "    def require_keyword(self, key: str):\n",
        "        if not self.match_keyword(key):\n",
        "            t = self.peek()\n",
        "            raise ParseError(f\"Expected keyword '{key}' at {t.pos} but found '{t.lexeme}'\")\n",
        "\n",
        "    def expect(self, ttype: TokenType) -> Token:\n",
        "        t = self.peek()\n",
        "        if t.type != ttype:\n",
        "            raise ParseError(f\"Expected {ttype.name} at {t.pos} but found {t.lexeme!r}\")\n",
        "        return self.advance()\n",
        "\n",
        "    def parse(self) -> Command:\n",
        "        if self.match_keyword(\"CALCULATE\"):\n",
        "            self.require_keyword(\"DOSE\")\n",
        "            self.require_keyword(\"FOR\")\n",
        "            params = self.parse_kv_list()\n",
        "            return CalculateDose(\"CALCULATE\", params)\n",
        "        if self.match_keyword(\"CHECK\"):\n",
        "            self.require_keyword(\"INTERACTION\")\n",
        "            self.require_keyword(\"BETWEEN\")\n",
        "            a = self.expect_ident_value()\n",
        "            self.expect(TokenType.AND)\n",
        "            b = self.expect_ident_value()\n",
        "            return CheckInteraction(\"CHECK\", {\"drug_a\": a, \"drug_b\": b})\n",
        "        if self.match_keyword(\"ADJUST\"):\n",
        "            self.require_keyword(\"DOSE\")\n",
        "            self.require_keyword(\"FOR\")\n",
        "            params = self.parse_kv_list()\n",
        "            return AdjustDose(\"ADJUST\", params)\n",
        "        if self.match_keyword(\"VALIDATE\"):\n",
        "            self.require_keyword(\"PRESCRIPTION\")\n",
        "            params = self.parse_kv_list()\n",
        "            return ValidatePrescription(\"VALIDATE\", params)\n",
        "        if self.match_keyword(\"ALERT\"):\n",
        "            self.require_keyword(\"WHEN\")\n",
        "            self.require_keyword(\"DOSE\")\n",
        "            self.require_keyword(\"EXCEEDS\")\n",
        "            self.require_keyword(\"SAFETY_LIMIT\")\n",
        "            return AlertThreshold(\"ALERT\", {\"rule\": \"dose_exceeds_safety_limit\"})\n",
        "        t = self.peek()\n",
        "        raise ParseError(f\"Unknown command starting at {t.pos}: {t.lexeme!r}\")\n",
        "\n",
        "    def parse_kv_list(self) -> Dict[str, str]:\n",
        "        params: Dict[str, str] = {}\n",
        "        while self.peek().type != TokenType.EOF:\n",
        "            key = self.expect_ident_value()\n",
        "            self.expect(TokenType.EQUALS)\n",
        "            val = self.expect_value_with_optional_unit()\n",
        "            params[key] = val\n",
        "            if self.peek().type == TokenType.COMMA:\n",
        "                self.advance()\n",
        "            if self.peek().type == TokenType.EOF:\n",
        "                break\n",
        "        return params\n",
        "\n",
        "    def expect_ident_value(self) -> str:\n",
        "        t = self.peek()\n",
        "        if t.type in (TokenType.IDENT, TokenType.KEYWORD):\n",
        "            return self.advance().lexeme\n",
        "        raise ParseError(f\"Expected identifier at {t.pos} but found {t.lexeme!r}\")\n",
        "\n",
        "    def expect_value_with_optional_unit(self) -> str:\n",
        "        t = self.peek()\n",
        "        if t.type == TokenType.NUMBER:\n",
        "            num = self.advance().lexeme\n",
        "            if self.peek().type == TokenType.UNIT:\n",
        "                unit = self.advance().lexeme\n",
        "                return f\"{num}{unit}\"\n",
        "            return num\n",
        "        if t.type in (TokenType.IDENT,):\n",
        "            return self.advance().lexeme\n",
        "        if t.type == TokenType.KEYWORD:\n",
        "            return self.advance().lexeme.lower()\n",
        "        if t.type == TokenType.UNIT:\n",
        "            u = self.advance().lexeme\n",
        "            return u\n",
        "        raise ParseError(f\"Expected value at {t.pos} but found {t.lexeme!r}\")\n"
      ]
    },
    {
      "cell_type": "markdown",
      "id": "03f417fd-8763-4d34-9f23-457792af74ca",
      "metadata": {
        "id": "03f417fd-8763-4d34-9f23-457792af74ca"
      },
      "source": [
        "### 5.4 Abstract Syntax Tree Nodes (`ast_nodes.py`)\n",
        "\n",
        "AST nodes represent **parsed commands as structured data objects**. Each command type has its own class, making the execution phase type-safe and clear.\n",
        "\n",
        "**Design Pattern**: We use Python's `@dataclass` decorator for clean, immutable data structures with automatic `__init__`, `__repr__`, and comparison methods."
      ]
    },
    {
      "cell_type": "code",
      "execution_count": 55,
      "id": "b221496b-c995-48c6-94de-a128db129a87",
      "metadata": {
        "id": "b221496b-c995-48c6-94de-a128db129a87"
      },
      "outputs": [],
      "source": [
        "from dataclasses import dataclass, field\n",
        "from typing import Dict, Any\n",
        "\n",
        "@dataclass\n",
        "class Command:\n",
        "    name: str\n",
        "    params: Dict[str, Any] = field(default_factory=dict)\n",
        "\n",
        "@dataclass\n",
        "class CalculateDose(Command):\n",
        "    pass\n",
        "\n",
        "@dataclass\n",
        "class CheckInteraction(Command):\n",
        "    pass\n",
        "\n",
        "@dataclass\n",
        "class AdjustDose(Command):\n",
        "    pass\n",
        "\n",
        "@dataclass\n",
        "class ValidatePrescription(Command):\n",
        "    pass\n",
        "\n",
        "@dataclass\n",
        "class ReportRegimen(Command):\n",
        "    pass\n",
        "\n",
        "@dataclass\n",
        "class AlertThreshold(Command):\n",
        "    pass\n"
      ]
    },
    {
      "cell_type": "markdown",
      "id": "e79852ec-55e9-427b-9d71-60d1b633073d",
      "metadata": {
        "id": "e79852ec-55e9-427b-9d71-60d1b633073d"
      },
      "source": [
        "### 5.5 Executor (Interpreter Engine) (`executor.py`)\n",
        "\n",
        "The executor implements the **runtime execution logic** for each command type. It:\n",
        "1. **Normalizes input parameters** (standardizes units, extracts numeric values)\n",
        "2. **Applies dosing algorithms** from the rules engine\n",
        "3. **Enforces safety constraints** (alerts when limits exceeded)\n",
        "4. **Manages persistent state** (patient regimen tracking)\n",
        "\n",
        "**Key Functions**:\n",
        "- `normalize_ctx()`: Standardizes parameter names and units\n",
        "- `compute_dose()`: Calculates medication dose with adjustments\n",
        "- `check_interaction()`: Looks up drug combinations\n",
        "- `validate_prescription()`: Verifies dose against safety ranges\n",
        "- `record_regimen()` / `report_regimen()`: Patient history management"
      ]
    },
    {
      "cell_type": "code",
      "execution_count": 56,
      "id": "94c11414-fbdc-4df8-85cf-ecfd5938e213",
      "metadata": {
        "id": "94c11414-fbdc-4df8-85cf-ecfd5938e213"
      },
      "outputs": [],
      "source": [
        "from __future__ import annotations\n",
        "from typing import Dict, Any, Tuple\n",
        "import json, os\n",
        "from errors import ExecutionError, UnknownDrugError, UnknownConditionError, SafetyLimitExceeded\n",
        "from rules import DRUG_RULES, INTERACTIONS\n",
        "\n",
        "STATE_FILE = os.path.join(os.getcwd(), \"regimens.json\")\n",
        "\n",
        "def _load_state():\n",
        "    if os.path.exists(STATE_FILE):\n",
        "        with open(STATE_FILE, \"r\") as f:\n",
        "            return json.load(f)\n",
        "\n",
        "    return {\"patients\": {}}\n",
        "\n",
        "def _save_state(state):\n",
        "    with open(STATE_FILE, \"w\") as f:\n",
        "        json.dump(state, f, indent=2)\n",
        "\n",
        "def parse_number_unit(value: str) -> tuple[float, str | None]:\n",
        "    import re\n",
        "    m = re.match(r\"^(\\d+(?:\\.\\d+)?)([A-Za-z/]+)?$\", value)\n",
        "    if not m:\n",
        "        raise ExecutionError(f\"Invalid numeric value '{value}'\")\n",
        "    n = float(m.group(1))\n",
        "    unit = m.group(2)\n",
        "    return n, unit\n",
        "\n",
        "def normalize_ctx(params):\n",
        "    ctx = {}\n",
        "    p = {str(k).lower(): v for k, v in params.items()}\n",
        "    if \"weight\" in p:\n",
        "        n, u = parse_number_unit(p[\"weight\"])\n",
        "        if u and u.lower() != \"kg\":\n",
        "            raise ExecutionError(f\"Expected weight in kg, got '{u}'\")\n",
        "        ctx[\"weight_kg\"] = n\n",
        "    if \"age\" in p:\n",
        "        n, u = parse_number_unit(p[\"age\"])\n",
        "        ctx[\"age\"] = int(n)\n",
        "        ctx[\"elderly\"] = ctx[\"age\"] >= 65\n",
        "    if \"kidney_function\" in p:\n",
        "        ctx[\"kidney_function\"] = p[\"kidney_function\"].lower()\n",
        "        ctx[\"renal_impaired\"] = ctx[\"kidney_function\"] in (\"impaired\", \"reduced\", \"ckd\")\n",
        "    if \"condition\" in p:\n",
        "        ctx[\"condition\"] = p[\"condition\"].lower()\n",
        "    if \"drug\" in p:\n",
        "        ctx[\"drug\"] = p[\"drug\"].lower()\n",
        "    if \"dose\" in p:\n",
        "        n, u = parse_number_unit(p[\"dose\"])\n",
        "        if u and u.lower() not in (\"mg\", \"mcg\", \"g\"):\n",
        "            raise ExecutionError(f\"Unsupported dose unit '{u}'\")\n",
        "        factor = {\"mg\": 1.0, \"mcg\": 0.001, \"g\": 1000.0}.get((u or \"mg\").lower(), 1.0)\n",
        "        ctx[\"dose_mg_input\"] = n * factor\n",
        "    return ctx\n",
        "\n",
        "\n",
        "def compute_dose(ctx: Dict[str, Any]) -> Dict[str, Any]:\n",
        "    drug = ctx.get(\"drug\")\n",
        "    condition = ctx.get(\"condition\")\n",
        "    if not drug:\n",
        "        raise ExecutionError(\"Missing parameter: drug\")\n",
        "    if condition is None:\n",
        "        raise ExecutionError(\"Missing parameter: condition\")\n",
        "    rule = DRUG_RULES.get(drug)\n",
        "    if not rule:\n",
        "        raise UnknownDrugError(drug)\n",
        "    mg_day, rationale = rule.calculator(ctx)\n",
        "    adjust = 1.0\n",
        "    if ctx.get(\"renal_impaired\", False):\n",
        "        adjust *= rule.renal_adjust_factor\n",
        "    if ctx.get(\"elderly\", False):\n",
        "        adjust *= rule.elderly_adjust_factor\n",
        "    adjusted = mg_day * adjust\n",
        "    low, high = rule.safe_range\n",
        "    alert = None\n",
        "    if adjusted > high:\n",
        "        alert = f\"computed {adjusted:.0f} mg/day exceeds safety limit {high:.0f} mg/day\"\n",
        "    if adjusted < low:\n",
        "        if low > 0:\n",
        "            alert = (alert or \"\") + (\"\" if alert is None else \"; \") + f\"computed {adjusted:.0f} mg/day below typical minimum {low:.0f} mg/day\"\n",
        "    per_dose = None\n",
        "    if rule.max_single_dose_mg:\n",
        "        doses = max(1, int(round(adjusted / rule.max_single_dose_mg)))\n",
        "        per_dose = min(rule.max_single_dose_mg, adjusted / doses)\n",
        "    return {\n",
        "        \"drug\": drug,\n",
        "        \"condition\": condition,\n",
        "        \"recommended_mg_per_day\": round(adjusted, 2),\n",
        "        \"per_dose_mg\": None if per_dose is None else round(per_dose, 2),\n",
        "        \"doses_per_day\": None if per_dose is None else max(1, int(round(adjusted / per_dose))),\n",
        "        \"rationale\": rationale + (f\"; adjustments factor={adjust:.2f}\" if adjust != 1.0 else \"\"),\n",
        "        \"safety_range_mg_day\": (low, high),\n",
        "        \"alert\": alert,\n",
        "    }\n",
        "\n",
        "def check_interaction(drug_a: str, drug_b: str) -> str:\n",
        "    a, b = drug_a.lower(), drug_b.lower()\n",
        "    key = frozenset([a,b])\n",
        "    return INTERACTIONS.get(key, \"no known interaction in demo database\")\n",
        "\n",
        "def validate_prescription(drug: str, dose_mg: float) -> Dict[str, Any]:\n",
        "    rule = DRUG_RULES.get(drug)\n",
        "    if not rule:\n",
        "        raise UnknownDrugError(drug)\n",
        "    low, high = rule.safe_range\n",
        "    status = \"OK\"\n",
        "    message = \"within safety range\"\n",
        "    alert = None\n",
        "    if dose_mg > high:\n",
        "        status = \"EXCEEDS\"\n",
        "        message = f\"dose {dose_mg:.0f} mg/day exceeds safety limit {high:.0f} mg/day\"\n",
        "        alert = message\n",
        "    elif dose_mg < low and low > 0:\n",
        "        status = \"LOW\"\n",
        "        message = f\"dose {dose_mg:.0f} mg/day below typical minimum {low:.0f} mg/day\"\n",
        "    return {\"drug\": drug, \"dose_mg_per_day\": dose_mg, \"status\": status, \"message\": message, \"alert\": alert}\n",
        "\n",
        "def enforce_alerts(result: Dict[str, Any]) -> None:\n",
        "    if result.get(\"alert\"):\n",
        "        raise SafetyLimitExceeded(result[\"alert\"], computed=result[\"recommended_mg_per_day\"], limit=result[\"safety_range_mg_day\"][1])\n"
      ]
    },
    {
      "cell_type": "markdown",
      "source": [
        "### 5.6 Error Handling System (`errors.py`)\n",
        "\n",
        "Our error hierarchy provides **precise error classification** for different failure modes. This allows the system to:\n",
        "- Distinguish between syntax errors (lexer/parser) and runtime errors (executor)\n",
        "- Provide context-specific error messages\n",
        "- Enable graceful error recovery in production systems"
      ],
      "metadata": {
        "id": "wjEa_iDO7EbR"
      },
      "id": "wjEa_iDO7EbR"
    },
    {
      "cell_type": "code",
      "source": [
        "from dataclasses import dataclass\n",
        "\n",
        "class InterpreterError(Exception):\n",
        "    pass\n",
        "\n",
        "class LexicalError(InterpreterError):\n",
        "    pass\n",
        "\n",
        "class ParseError(InterpreterError):\n",
        "    pass\n",
        "\n",
        "class ExecutionError(InterpreterError):\n",
        "    pass\n",
        "\n",
        "class UnknownDrugError(ExecutionError):\n",
        "    def __init__(self, drug: str):\n",
        "        super().__init__(f\"Unknown drug: {drug}\")\n",
        "        self.drug = drug\n",
        "\n",
        "class UnknownConditionError(ExecutionError):\n",
        "    def __init__(self, condition: str):\n",
        "        super().__init__(f\"Unknown condition: {condition}\")\n",
        "        self.condition = condition\n",
        "\n",
        "class SafetyLimitExceeded(ExecutionError):\n",
        "    def __init__(self, message: str, computed: float, limit: float):\n",
        "        super().__init__(message)\n",
        "        self.computed = computed\n",
        "        self.limit = limit\n",
        "\n",
        "@dataclass\n",
        "class ErrorReport:\n",
        "    kind: str\n",
        "    message: str\n",
        "    position: int | None = None\n"
      ],
      "metadata": {
        "id": "ii6U_bWW7GHN"
      },
      "id": "ii6U_bWW7GHN",
      "execution_count": 57,
      "outputs": []
    },
    {
      "cell_type": "markdown",
      "id": "da149cd3-f6bb-4c20-8b8d-b75e318326ba",
      "metadata": {
        "id": "da149cd3-f6bb-4c20-8b8d-b75e318326ba"
      },
      "source": [
        "### 5.7 Drug Rules Engine (`rules.py`)\n",
        "\n",
        "The rules engine defines **medication-specific dosing algorithms** and **drug interaction knowledge**. Each drug has:\n",
        "- **Calculator function**: Computes base dose (per-kg, fixed, or condition-based)\n",
        "- **Safe range**: Therapeutic window (minimum and maximum mg/day)\n",
        "- **Adjustment factors**: For renal impairment and elderly patients\n",
        "- **Max single dose**: Limits per-dose amount\n",
        "\n",
        "**Supported Drugs**: Amlodipine, Losartan, Metformin, Glimepiride, Amoxicillin, Azithromycin, Paracetamol, Ibuprofen, Salbutamol, Montelukast\n",
        "\n",
        "**Interaction Database**: Stores known drug-drug interactions as a lookup table."
      ]
    },
    {
      "cell_type": "code",
      "execution_count": 58,
      "id": "4004ba8c-2556-4d58-8ab3-f33fc00a025d",
      "metadata": {
        "id": "4004ba8c-2556-4d58-8ab3-f33fc00a025d"
      },
      "outputs": [],
      "source": [
        "from dataclasses import dataclass\n",
        "from typing import Callable, Optional, Dict, Tuple\n",
        "\n",
        "@dataclass\n",
        "class DrugRule:\n",
        "    calculator: Callable[[dict], Tuple[float, str]]\n",
        "    safe_range: Tuple[float, float]\n",
        "    max_single_dose_mg: Optional[float] = None\n",
        "    renal_adjust_factor: float = 1.0\n",
        "    elderly_adjust_factor: float = 1.0\n",
        "\n",
        "def per_kg_mg_day(mg_per_kg: float, cap: float):\n",
        "    def calc(ctx):\n",
        "        wt = ctx.get(\"weight_kg\")\n",
        "        if wt is None:\n",
        "            return (0.0, \"No weight provided; cannot compute per-kg dose.\")\n",
        "        val = mg_per_kg * wt\n",
        "        return (min(val, cap), f\"{mg_per_kg} mg/kg/day capped at {cap} mg/day\")\n",
        "    return calc\n",
        "\n",
        "def fixed_mg_day(amount: float):\n",
        "    def calc(ctx):\n",
        "        return (amount, f\"Fixed {amount} mg/day\")\n",
        "    return calc\n",
        "\n",
        "def condition_based(default: float, by_condition: Dict[str, float], cap: float | None = None):\n",
        "    def calc(ctx):\n",
        "        cond = ctx.get(\"condition\")\n",
        "        base = by_condition.get(cond, default)\n",
        "        if cap is not None and base > cap:\n",
        "            return (cap, f\"Condition-based {base} mg/day capped at {cap}\")\n",
        "        return (base, f\"Condition-based {base} mg/day for {cond}\")\n",
        "    return calc\n",
        "\n",
        "DRUG_RULES: Dict[str, DrugRule] = {\n",
        "    \"amlodipine\": DrugRule(\n",
        "        calculator=condition_based(5.0, {\"hypertension\": 5.0}, cap=10.0),\n",
        "        safe_range=(2.5, 10.0),\n",
        "        max_single_dose_mg=10.0,\n",
        "        elderly_adjust_factor=0.8\n",
        "    ),\n",
        "    \"losartan\": DrugRule(\n",
        "        calculator=condition_based(50.0, {\"hypertension\": 50.0}, cap=100.0),\n",
        "        safe_range=(25.0, 100.0),\n",
        "        max_single_dose_mg=100.0,\n",
        "        renal_adjust_factor=0.8,\n",
        "        elderly_adjust_factor=0.9\n",
        "    ),\n",
        "    \"metformin\": DrugRule(\n",
        "        calculator=per_kg_mg_day(20.0, cap=2000.0),\n",
        "        safe_range=(500.0, 2000.0),\n",
        "        max_single_dose_mg=1000.0,\n",
        "        renal_adjust_factor=0.5,\n",
        "        elderly_adjust_factor=0.8\n",
        "    ),\n",
        "    \"glimepiride\": DrugRule(\n",
        "        calculator=condition_based(2.0, {\"diabetes\": 2.0}, cap=8.0),\n",
        "        safe_range=(1.0, 8.0),\n",
        "        max_single_dose_mg=4.0\n",
        "    ),\n",
        "    \"amoxicillin\": DrugRule(\n",
        "        calculator=per_kg_mg_day(30.0, cap=1500.0),\n",
        "        safe_range=(500.0, 1500.0),\n",
        "        max_single_dose_mg=1000.0,\n",
        "        renal_adjust_factor=0.5\n",
        "    ),\n",
        "    \"azithromycin\": DrugRule(\n",
        "        calculator=per_kg_mg_day(10.0, cap=500.0),\n",
        "        safe_range=(250.0, 500.0),\n",
        "        max_single_dose_mg=500.0\n",
        "    ),\n",
        "    \"paracetamol\": DrugRule(\n",
        "        calculator=per_kg_mg_day(60.0, cap=4000.0),\n",
        "        safe_range=(0.0, 4000.0),\n",
        "        max_single_dose_mg=1000.0\n",
        "    ),\n",
        "    \"ibuprofen\": DrugRule(\n",
        "        calculator=per_kg_mg_day(20.0, cap=1200.0),\n",
        "        safe_range=(0.0, 1200.0),\n",
        "        max_single_dose_mg=400.0\n",
        "    ),\n",
        "    \"salbutamol\": DrugRule(\n",
        "        calculator=per_kg_mg_day(0.3, cap=12.0),\n",
        "        safe_range=(2.0, 12.0),\n",
        "        max_single_dose_mg=4.0\n",
        "    ),\n",
        "    \"montelukast\": DrugRule(\n",
        "        calculator=fixed_mg_day(10.0),\n",
        "        safe_range=(5.0, 10.0),\n",
        "        max_single_dose_mg=10.0\n",
        "    ),\n",
        "}\n",
        "\n",
        "INTERACTIONS: Dict[frozenset[str], str] = {\n",
        "    frozenset([\"losartan\", \"ibuprofen\"]): \"caution: NSAIDs may blunt antihypertensive effect\",\n",
        "    frozenset([\"azithromycin\", \"amlodipine\"]): \"caution: potential hypotension risk\",\n",
        "    frozenset([\"amlodipine\", \"losartan\"]): \"no significant interaction reported (commonly co-prescribed)\",\n",
        "}\n"
      ]
    },
    {
      "cell_type": "markdown",
      "id": "9f8de803-7761-47cf-a542-8a25800d14e2",
      "metadata": {
        "id": "9f8de803-7761-47cf-a542-8a25800d14e2"
      },
      "source": [
        "### 5.8 Interpreter Main Interface (`interpreter.py`)\n",
        "\n",
        "The interpreter module provides the **high-level API** that ties all components together. It:\n",
        "1. Calls the lexer to tokenize input\n",
        "2. Calls the parser to build AST\n",
        "3. Dispatches to appropriate executor functions based on command type\n",
        "4. Returns structured results\n",
        "\n",
        "**Two execution modes**:\n",
        "- `run()`: Execute command and return results (alerts in result dict)\n",
        "- `run_and_raise_on_alert()`: Execute command and raise exception if safety limits exceeded"
      ]
    },
    {
      "cell_type": "code",
      "execution_count": 59,
      "id": "acb54240-c6c3-4e1d-bfd6-e2ff24bdfa54",
      "metadata": {
        "id": "acb54240-c6c3-4e1d-bfd6-e2ff24bdfa54"
      },
      "outputs": [],
      "source": [
        "from __future__ import annotations\n",
        "from typing import Dict, Any\n",
        "from lexer import lex\n",
        "from parser import Parser\n",
        "from errors import InterpreterError, SafetyLimitExceeded\n",
        "from ast_nodes import *\n",
        "from executor import (\n",
        "    normalize_ctx, compute_dose, check_interaction, validate_prescription,\n",
        "    record_regimen, report_regimen, enforce_alerts\n",
        ")\n",
        "\n",
        "\n",
        "def run(source: str) -> Dict[str, Any]:\n",
        "    tokens = lex(source)\n",
        "    node = Parser(tokens).parse()\n",
        "    if isinstance(node, CalculateDose):\n",
        "        ctx = normalize_ctx(node.params)\n",
        "        return {\"type\": \"CALCULATE\", \"result\": result}\n",
        "    if isinstance(node, CheckInteraction):\n",
        "        msg = check_interaction(node.params[\"drug_a\"], node.params[\"drug_b\"])\n",
        "        return {\"type\": \"CHECK\", \"interaction\": msg}\n",
        "    if isinstance(node, AdjustDose):\n",
        "        ctx = normalize_ctx(node.params)\n",
        "        if \"drug\" not in ctx or \"condition\" not in ctx:\n",
        "            raise InterpreterError(\"ADJUST requires at least 'drug' and 'condition' plus modifiers like age or kidney_function\")\n",
        "        result = compute_dose(ctx)\n",
        "        return {\"type\": \"ADJUST\", \"result\": result}\n",
        "    if isinstance(node, ValidatePrescription):\n",
        "        ctx = normalize_ctx(node.params)\n",
        "        drug = ctx.get(\"drug\")\n",
        "        total = ctx.get(\"dose_mg_input\")\n",
        "        if drug is None or total is None:\n",
        "            raise InterpreterError(\"VALIDATE requires 'drug' and 'dose'\")\n",
        "        res = validate_prescription(drug, total)\n",
        "        return {\"type\": \"VALIDATE\", \"result\": res}\n",
        "    if isinstance(node, AlertThreshold):\n",
        "        return {\"type\": \"ALERT_RULE\", \"rule\": \"dose_exceeds_safety_limit\", \"status\": \"armed (demo)\"}\n",
        "    raise InterpreterError(\"Unsupported command type\")\n",
        "\n",
        "def run_and_raise_on_alert(source: str) -> Dict[str, Any]:\n",
        "    out = run(source)\n",
        "    if out.get(\"type\") in (\"CALCULATE\",\"ADJUST\"):\n",
        "        try:\n",
        "            enforce_alerts(out[\"result\"])\n",
        "        except SafetyLimitExceeded as e:\n",
        "            raise\n",
        "    return out\n"
      ]
    },
    {
      "cell_type": "markdown",
      "id": "a3ae6539-2bb0-468f-a5c6-33f6fc8405be",
      "metadata": {
        "id": "a3ae6539-2bb0-468f-a5c6-33f6fc8405be"
      },
      "source": [
        "### 5.9 Package Initialization (`__init__.py`)\n",
        "\n",
        "The `__init__.py` file is intentionally minimal — it simply marks the directory as a Python package. All imports are handled explicitly in the interpreter module."
      ]
    },
    {
      "cell_type": "code",
      "execution_count": 60,
      "id": "5d7893d8-a349-478d-a9fa-4a6f74498a1f",
      "metadata": {
        "id": "5d7893d8-a349-478d-a9fa-4a6f74498a1f"
      },
      "outputs": [],
      "source": [
        "from interpreter import run, run_and_raise_on_alert"
      ]
    },
    {
      "cell_type": "markdown",
      "id": "ed4c8156-4bbe-477b-946e-b8010d137c69",
      "metadata": {
        "id": "ed4c8156-4bbe-477b-946e-b8010d137c69"
      },
      "source": [
        "---\n",
        "## Section 6: Testing with Valid and Invalid Inputs\n",
        "\n",
        "This section demonstrates the interpreter's functionality through comprehensive test cases covering:\n",
        "- ✅ **Valid commands**: Showing correct execution and output\n",
        "- ❌ **Invalid commands**: Demonstrating error handling and informative error messages\n",
        "\n",
        "### Test Setup\n",
        "\n",
        "First, we'll import the interpreter and create a helper function for displaying results."
      ]
    },
    {
      "cell_type": "code",
      "execution_count": 61,
      "id": "80761d5c-eb02-46e3-a60f-c50a949c9430",
      "metadata": {
        "id": "80761d5c-eb02-46e3-a60f-c50a949c9430"
      },
      "outputs": [],
      "source": [
        "# Test setup - Import interpreter and define display helper\n",
        "\n",
        "from interpreter import run, run_and_raise_on_alert\n",
        "import json\n",
        "\n",
        "def display_result(command: str, show_raw=False):\n",
        "    \"\"\"\n",
        "    Execute a command and display formatted output.\n",
        "\n",
        "    Args:\n",
        "        command: Command string to execute\n",
        "        show_raw: If True, display raw result dictionary\n",
        "    \"\"\"\n",
        "    print(f\"\\n{'='*70}\")\n",
        "    print(f\"COMMAND: {command}\")\n",
        "    print('='*70)\n",
        "\n",
        "    try:\n",
        "        result = run(command)\n",
        "        print(\"✅ SUCCESS\\n\")\n",
        "\n",
        "        if show_raw:\n",
        "            print(\"Raw result:\")\n",
        "            print(json.dumps(result, indent=2))\n",
        "        else:\n",
        "            # Format output based on command type\n",
        "            if result[\"type\"] == \"CALCULATE\" or result[\"type\"] == \"ADJUST\":\n",
        "                r = result[\"result\"]\n",
        "                print(f\"Drug: {r['drug'].title()}\")\n",
        "                print(f\"Condition: {r['condition'].title()}\")\n",
        "                print(f\"Recommended Daily Dose: {r['recommended_mg_per_day']} mg/day\")\n",
        "                if r['per_dose_mg']:\n",
        "                    print(f\"Per-Dose Amount: {r['per_dose_mg']} mg\")\n",
        "                    print(f\"Doses Per Day: {r['doses_per_day']}\")\n",
        "                print(f\"Rationale: {r['rationale']}\")\n",
        "                print(f\"Safety Range: {r['safety_range_mg_day'][0]}-{r['safety_range_mg_day'][1]} mg/day\")\n",
        "                if r['alert']:\n",
        "                    print(f\"⚠️  ALERT: {r['alert']}\")\n",
        "\n",
        "            elif result[\"type\"] == \"CHECK\":\n",
        "                print(f\"Interaction: {result['interaction']}\")\n",
        "\n",
        "            elif result[\"type\"] == \"VALIDATE\":\n",
        "                r = result[\"result\"]\n",
        "                print(f\"Drug: {r['drug'].title()}\")\n",
        "                print(f\"Prescribed Dose: {r['dose_mg_per_day']} mg/day\")\n",
        "                print(f\"Status: {r['status']}\")\n",
        "                print(f\"Message: {r['message']}\")\n",
        "                if r['alert']:\n",
        "                    print(f\"⚠️  ALERT: {r['alert']}\")\n",
        "\n",
        "            elif result[\"type\"] == \"ALERT_RULE\":\n",
        "                print(f\"Alert Rule: {result['rule']}\")\n",
        "                print(f\"Status: {result['status']}\")\n",
        "\n",
        "    except Exception as e:\n",
        "        print(f\"❌ ERROR: {type(e).__name__}\")\n",
        "        print(f\"Message: {str(e)}\")\n",
        "\n",
        "    print()"
      ]
    },
    {
      "cell_type": "markdown",
      "id": "d1245c10-1ccc-4794-a27c-2b2917f4c168",
      "metadata": {
        "id": "d1245c10-1ccc-4794-a27c-2b2917f4c168"
      },
      "source": [
        "### 6.1 Valid Command Tests\n",
        "\n",
        "#### Test 1: Basic Dose Calculation"
      ]
    },
    {
      "cell_type": "code",
      "execution_count": 62,
      "id": "c2ef96c6-9b97-4d43-b354-aca5f0a886c0",
      "metadata": {
        "colab": {
          "base_uri": "https://localhost:8080/"
        },
        "id": "c2ef96c6-9b97-4d43-b354-aca5f0a886c0",
        "outputId": "0b4633fb-0437-424c-f479-bb4b2aaa2047"
      },
      "outputs": [
        {
          "output_type": "stream",
          "name": "stdout",
          "text": [
            "\n",
            "======================================================================\n",
            "COMMAND: CALCULATE DOSE FOR drug=metformin, condition=diabetes, weight=70kg, age=45\n",
            "======================================================================\n",
            "✅ SUCCESS\n",
            "\n",
            "Drug: Metformin\n",
            "Condition: Diabetes\n",
            "Recommended Daily Dose: 1400.0 mg/day\n",
            "Per-Dose Amount: 1000.0 mg\n",
            "Doses Per Day: 1\n",
            "Rationale: 20.0 mg/kg/day capped at 2000.0 mg/day\n",
            "Safety Range: 500.0-2000.0 mg/day\n",
            "\n"
          ]
        }
      ],
      "source": [
        "# Test 1: Calculate dose for metformin (weight-based)\n",
        "display_result(\"CALCULATE DOSE FOR drug=metformin, condition=diabetes, weight=70kg, age=45\")"
      ]
    },
    {
      "cell_type": "markdown",
      "id": "39f4c612-0405-45fb-a202-ca45200d2a5f",
      "metadata": {
        "id": "39f4c612-0405-45fb-a202-ca45200d2a5f"
      },
      "source": [
        "**Expected Behavior**:\n",
        "- Metformin uses weight-based dosing (20 mg/kg/day)\n",
        "- For 70 kg patient: 20 × 70 = 1400 mg/day\n",
        "- No adjustments needed (not elderly, no renal impairment)\n",
        "- Result should be within safe range (500-2000 mg/day)"
      ]
    },
    {
      "cell_type": "markdown",
      "id": "062e4319-e830-4165-8c5c-3744e01bb9fe",
      "metadata": {
        "id": "062e4319-e830-4165-8c5c-3744e01bb9fe"
      },
      "source": [
        "#### Test 2: Dose Calculation with Elderly Adjustment"
      ]
    },
    {
      "cell_type": "code",
      "execution_count": 63,
      "id": "344bf066-7c5f-42fa-bd35-60eb41a7de54",
      "metadata": {
        "colab": {
          "base_uri": "https://localhost:8080/"
        },
        "id": "344bf066-7c5f-42fa-bd35-60eb41a7de54",
        "outputId": "9bf9a40d-a657-49f6-a1ee-74661125e07d"
      },
      "outputs": [
        {
          "output_type": "stream",
          "name": "stdout",
          "text": [
            "\n",
            "======================================================================\n",
            "COMMAND: CALCULATE DOSE FOR drug=amlodipine, condition=hypertension, weight=65kg, age=72\n",
            "======================================================================\n",
            "✅ SUCCESS\n",
            "\n",
            "Drug: Amlodipine\n",
            "Condition: Hypertension\n",
            "Recommended Daily Dose: 4.0 mg/day\n",
            "Per-Dose Amount: 4.0 mg\n",
            "Doses Per Day: 1\n",
            "Rationale: Condition-based 5.0 mg/day for hypertension; adjustments factor=0.80\n",
            "Safety Range: 2.5-10.0 mg/day\n",
            "\n"
          ]
        }
      ],
      "source": [
        "# Test 2: Calculate dose for elderly patient\n",
        "display_result(\"CALCULATE DOSE FOR drug=amlodipine, condition=hypertension, weight=65kg, age=72\")"
      ]
    },
    {
      "cell_type": "markdown",
      "id": "8c4003b1-7c8e-469d-9f79-bec169b35c69",
      "metadata": {
        "id": "8c4003b1-7c8e-469d-9f79-bec169b35c69"
      },
      "source": [
        "**Expected Behavior**:\n",
        "- Amlodipine base dose: 5 mg/day for hypertension\n",
        "- Elderly adjustment (age ≥ 65): ×0.8\n",
        "- Final dose: 5 × 0.8 = 4 mg/day"
      ]
    },
    {
      "cell_type": "markdown",
      "id": "6f017c68-0021-4d74-8c7e-ffbec28787e5",
      "metadata": {
        "id": "6f017c68-0021-4d74-8c7e-ffbec28787e5"
      },
      "source": [
        "#### Test 3: Dose Calculation with Renal Impairment"
      ]
    },
    {
      "cell_type": "code",
      "execution_count": 64,
      "id": "5b650407-18ae-4fd1-9bb6-f02acf7a4069",
      "metadata": {
        "colab": {
          "base_uri": "https://localhost:8080/"
        },
        "id": "5b650407-18ae-4fd1-9bb6-f02acf7a4069",
        "outputId": "9d4495fc-bddb-41de-f4a9-8088e76315bb"
      },
      "outputs": [
        {
          "output_type": "stream",
          "name": "stdout",
          "text": [
            "\n",
            "======================================================================\n",
            "COMMAND: CALCULATE DOSE FOR drug=losartan, condition=hypertension, age=58, kidney_function=impaired\n",
            "======================================================================\n",
            "✅ SUCCESS\n",
            "\n",
            "Drug: Losartan\n",
            "Condition: Hypertension\n",
            "Recommended Daily Dose: 40.0 mg/day\n",
            "Per-Dose Amount: 40.0 mg\n",
            "Doses Per Day: 1\n",
            "Rationale: Condition-based 50.0 mg/day for hypertension; adjustments factor=0.80\n",
            "Safety Range: 25.0-100.0 mg/day\n",
            "\n"
          ]
        }
      ],
      "source": [
        "# Test 3: Adjust dose for renal impairment\n",
        "display_result(\"CALCULATE DOSE FOR drug=losartan, condition=hypertension, age=58, kidney_function=impaired\")"
      ]
    },
    {
      "cell_type": "markdown",
      "id": "6ca61df3-1ef8-4725-ab6e-6b872b7baa83",
      "metadata": {
        "id": "6ca61df3-1ef8-4725-ab6e-6b872b7baa83"
      },
      "source": [
        "**Expected Behavior**:\n",
        "- Losartan base dose: 50 mg/day\n",
        "- Renal adjustment: ×0.8\n",
        "- Final dose: 50 × 0.8 = 40 mg/day"
      ]
    },
    {
      "cell_type": "markdown",
      "id": "f479bc76-e476-4b24-afd4-e57f32ccfed1",
      "metadata": {
        "id": "f479bc76-e476-4b24-afd4-e57f32ccfed1"
      },
      "source": [
        "#### Test 4: Dose Calculation with Multiple Adjustments"
      ]
    },
    {
      "cell_type": "code",
      "execution_count": 65,
      "id": "f7798103-00d0-47d6-8487-7143ba8b5c78",
      "metadata": {
        "colab": {
          "base_uri": "https://localhost:8080/"
        },
        "id": "f7798103-00d0-47d6-8487-7143ba8b5c78",
        "outputId": "b2585471-5a49-46b2-a787-8bca7bd3d781"
      },
      "outputs": [
        {
          "output_type": "stream",
          "name": "stdout",
          "text": [
            "\n",
            "======================================================================\n",
            "COMMAND: CALCULATE DOSE FOR drug=metformin, condition=diabetes, weight=60kg, age=68, kidney_function=ckd\n",
            "======================================================================\n",
            "✅ SUCCESS\n",
            "\n",
            "Drug: Metformin\n",
            "Condition: Diabetes\n",
            "Recommended Daily Dose: 480.0 mg/day\n",
            "Per-Dose Amount: 480.0 mg\n",
            "Doses Per Day: 1\n",
            "Rationale: 20.0 mg/kg/day capped at 2000.0 mg/day; adjustments factor=0.40\n",
            "Safety Range: 500.0-2000.0 mg/day\n",
            "⚠️  ALERT: computed 480 mg/day below typical minimum 500 mg/day\n",
            "\n"
          ]
        }
      ],
      "source": [
        "# Test 4: Elderly patient with renal impairment\n",
        "display_result(\"CALCULATE DOSE FOR drug=metformin, condition=diabetes, weight=60kg, age=68, kidney_function=ckd\")"
      ]
    },
    {
      "cell_type": "markdown",
      "id": "70c32d95-cdb8-4b92-bb19-e2465d8e91b6",
      "metadata": {
        "id": "70c32d95-cdb8-4b92-bb19-e2465d8e91b6"
      },
      "source": [
        "**Expected Behavior**:\n",
        "- Base: 20 mg/kg/day × 60 kg = 1200 mg/day\n",
        "- Renal adjustment: ×0.5\n",
        "- Elderly adjustment: ×0.8\n",
        "- Combined: 1200 × 0.5 × 0.8 = 480 mg/day"
      ]
    },
    {
      "cell_type": "markdown",
      "id": "643133e4-5684-4981-9beb-957664fbc1fc",
      "metadata": {
        "id": "643133e4-5684-4981-9beb-957664fbc1fc"
      },
      "source": [
        "#### Test 5: Check Drug Interaction"
      ]
    },
    {
      "cell_type": "code",
      "execution_count": 66,
      "id": "25afa44d-32d8-46bb-9a9c-d8483615c5a7",
      "metadata": {
        "colab": {
          "base_uri": "https://localhost:8080/"
        },
        "id": "25afa44d-32d8-46bb-9a9c-d8483615c5a7",
        "outputId": "1f049dd9-d0d5-4c75-ecfb-997a16f5c3e7"
      },
      "outputs": [
        {
          "output_type": "stream",
          "name": "stdout",
          "text": [
            "\n",
            "======================================================================\n",
            "COMMAND: CHECK INTERACTION BETWEEN losartan AND ibuprofen\n",
            "======================================================================\n",
            "✅ SUCCESS\n",
            "\n",
            "Interaction: caution: NSAIDs may blunt antihypertensive effect\n",
            "\n"
          ]
        }
      ],
      "source": [
        "# Test 5: Check for drug-drug interaction\n",
        "display_result(\"CHECK INTERACTION BETWEEN losartan AND ibuprofen\")"
      ]
    },
    {
      "cell_type": "markdown",
      "id": "cbc3a1ee-d5e9-4758-8766-1de6c27b89de",
      "metadata": {
        "id": "cbc3a1ee-d5e9-4758-8766-1de6c27b89de"
      },
      "source": [
        "**Expected Behavior**:\n",
        "- Should return: \"caution: NSAIDs may blunt antihypertensive effect\"\n",
        "- This is a known clinically significant interaction"
      ]
    },
    {
      "cell_type": "markdown",
      "id": "d7e28e98-692a-480c-b0a4-0ecc246e2331",
      "metadata": {
        "id": "d7e28e98-692a-480c-b0a4-0ecc246e2331"
      },
      "source": [
        "#### Test 6: Validate Prescription (Safe Dose)"
      ]
    },
    {
      "cell_type": "code",
      "execution_count": 67,
      "id": "1c72d7cd-1238-4ee3-a221-8b6dea948673",
      "metadata": {
        "colab": {
          "base_uri": "https://localhost:8080/"
        },
        "id": "1c72d7cd-1238-4ee3-a221-8b6dea948673",
        "outputId": "7820f0ec-c43c-4f84-b379-4ed3515ef859"
      },
      "outputs": [
        {
          "output_type": "stream",
          "name": "stdout",
          "text": [
            "\n",
            "======================================================================\n",
            "COMMAND: VALIDATE PRESCRIPTION drug=amlodipine, dose=5mg\n",
            "======================================================================\n",
            "✅ SUCCESS\n",
            "\n",
            "Drug: Amlodipine\n",
            "Prescribed Dose: 5.0 mg/day\n",
            "Status: OK\n",
            "Message: within safety range\n",
            "\n"
          ]
        }
      ],
      "source": [
        "# Test 6: Validate safe prescription\n",
        "display_result(\"VALIDATE PRESCRIPTION drug=amlodipine, dose=5mg\")"
      ]
    },
    {
      "cell_type": "markdown",
      "id": "f8fdb7c5-9eef-4b7a-aff8-3d49fb05ad1d",
      "metadata": {
        "id": "f8fdb7c5-9eef-4b7a-aff8-3d49fb05ad1d"
      },
      "source": [
        "**Expected Behavior**:\n",
        "- 5 mg is within safe range (2.5-10.0 mg/day)\n",
        "- Status: OK\n",
        "- Message: \"within safety range\""
      ]
    },
    {
      "cell_type": "markdown",
      "id": "407d3f9a-408f-4424-beb2-986db9889847",
      "metadata": {
        "id": "407d3f9a-408f-4424-beb2-986db9889847"
      },
      "source": [
        "#### Test 7: Validate Prescription (Excessive Dose - Safety Alert)"
      ]
    },
    {
      "cell_type": "code",
      "execution_count": 68,
      "id": "9c878324-e28b-44aa-b619-da6c2121ede9",
      "metadata": {
        "colab": {
          "base_uri": "https://localhost:8080/"
        },
        "id": "9c878324-e28b-44aa-b619-da6c2121ede9",
        "outputId": "53a3b8ae-60af-4147-cfae-86a5426b438b"
      },
      "outputs": [
        {
          "output_type": "stream",
          "name": "stdout",
          "text": [
            "\n",
            "======================================================================\n",
            "COMMAND: VALIDATE PRESCRIPTION drug=amlodipine, dose=15mg\n",
            "======================================================================\n",
            "✅ SUCCESS\n",
            "\n",
            "Drug: Amlodipine\n",
            "Prescribed Dose: 15.0 mg/day\n",
            "Status: EXCEEDS\n",
            "Message: dose 15 mg/day exceeds safety limit 10 mg/day\n",
            "⚠️  ALERT: dose 15 mg/day exceeds safety limit 10 mg/day\n",
            "\n"
          ]
        }
      ],
      "source": [
        "# Test 7: Validate unsafe prescription\n",
        "display_result(\"VALIDATE PRESCRIPTION drug=amlodipine, dose=15mg\")"
      ]
    },
    {
      "cell_type": "markdown",
      "id": "0a22d50f-4f5d-4d05-97d5-91ebca7f465a",
      "metadata": {
        "id": "0a22d50f-4f5d-4d05-97d5-91ebca7f465a"
      },
      "source": [
        "**Expected Behavior**:\n",
        "- 15 mg exceeds maximum safe dose (10 mg/day)\n",
        "- Status: EXCEEDS\n",
        "- Alert should be raised"
      ]
    },
    {
      "cell_type": "markdown",
      "id": "eb734cbb-18cf-4cc5-81b6-ecba2f0b0f73",
      "metadata": {
        "id": "eb734cbb-18cf-4cc5-81b6-ecba2f0b0f73"
      },
      "source": [
        "#### Test 8: Alert Configuration"
      ]
    },
    {
      "cell_type": "code",
      "execution_count": 69,
      "id": "0d6c6b39-2d34-461f-802e-cc7f10f16a6a",
      "metadata": {
        "colab": {
          "base_uri": "https://localhost:8080/"
        },
        "id": "0d6c6b39-2d34-461f-802e-cc7f10f16a6a",
        "outputId": "abe05b66-55f6-4fa1-cf71-ac4766bb6e8c"
      },
      "outputs": [
        {
          "output_type": "stream",
          "name": "stdout",
          "text": [
            "\n",
            "======================================================================\n",
            "COMMAND: ALERT WHEN DOSE EXCEEDS SAFETY_LIMIT\n",
            "======================================================================\n",
            "✅ SUCCESS\n",
            "\n",
            "Alert Rule: dose_exceeds_safety_limit\n",
            "Status: armed (demo)\n",
            "\n"
          ]
        }
      ],
      "source": [
        "# Test 8: Configure safety alert\n",
        "display_result(\"ALERT WHEN DOSE EXCEEDS SAFETY_LIMIT\")"
      ]
    },
    {
      "cell_type": "markdown",
      "id": "7825e198-e864-474c-b844-8e37adad7f15",
      "metadata": {
        "id": "7825e198-e864-474c-b844-8e37adad7f15"
      },
      "source": [
        "**Expected Behavior**:\n",
        "- Configures automated alert threshold monitoring\n",
        "- Returns demo status confirmation"
      ]
    },
    {
      "cell_type": "markdown",
      "id": "187d8489-0c83-4210-905c-66e0a13079a6",
      "metadata": {
        "id": "187d8489-0c83-4210-905c-66e0a13079a6"
      },
      "source": [
        "### 6.2 Invalid Command Tests (Error Handling Demonstration)\n",
        "\n",
        "#### Test 9: Lexical Error - Unknown Character"
      ]
    },
    {
      "cell_type": "code",
      "execution_count": 70,
      "id": "6e3c42e4-bf38-433b-adc1-ab34876c3579",
      "metadata": {
        "colab": {
          "base_uri": "https://localhost:8080/"
        },
        "id": "6e3c42e4-bf38-433b-adc1-ab34876c3579",
        "outputId": "da001256-0e24-4ac1-a39d-50de87f6c03b"
      },
      "outputs": [
        {
          "output_type": "stream",
          "name": "stdout",
          "text": [
            "\n",
            "======================================================================\n",
            "COMMAND: CALCULATE DOSE FOR drug=metformin @ condition=diabetes\n",
            "======================================================================\n",
            "❌ ERROR: LexicalError\n",
            "Message: Unexpected character '@' at 34\n",
            "\n"
          ]
        }
      ],
      "source": [
        "# Test 9: Invalid character in input\n",
        "display_result(\"CALCULATE DOSE FOR drug=metformin @ condition=diabetes\")"
      ]
    },
    {
      "cell_type": "markdown",
      "id": "94c106a1-cdb3-4f25-8313-e0e3de3a4c74",
      "metadata": {
        "id": "94c106a1-cdb3-4f25-8313-e0e3de3a4c74"
      },
      "source": [
        "**Expected Error**: `LexicalError`  \n",
        "**Reason**: The `@` symbol is not a valid token in the language"
      ]
    },
    {
      "cell_type": "markdown",
      "id": "b6c3209e-8c52-4d34-8994-b368f3d113a1",
      "metadata": {
        "id": "b6c3209e-8c52-4d34-8994-b368f3d113a1"
      },
      "source": [
        "#### Test 10: Parse Error - Missing Keyword"
      ]
    },
    {
      "cell_type": "code",
      "execution_count": 71,
      "id": "df59e07f-5b66-4460-bdb3-88e6db6fecd2",
      "metadata": {
        "colab": {
          "base_uri": "https://localhost:8080/"
        },
        "id": "df59e07f-5b66-4460-bdb3-88e6db6fecd2",
        "outputId": "97ff5ede-444f-4889-bb0a-eda0b1970525"
      },
      "outputs": [
        {
          "output_type": "stream",
          "name": "stdout",
          "text": [
            "\n",
            "======================================================================\n",
            "COMMAND: CALCULATE FOR drug=metformin, condition=diabetes\n",
            "======================================================================\n",
            "❌ ERROR: ParseError\n",
            "Message: Expected keyword 'DOSE' at 10 but found 'FOR'\n",
            "\n"
          ]
        }
      ],
      "source": [
        "# Test 10: Missing required keyword\n",
        "display_result(\"CALCULATE FOR drug=metformin, condition=diabetes\")"
      ]
    },
    {
      "cell_type": "markdown",
      "id": "286292cb-c19f-44d1-a7ac-85ee11b7c3c5",
      "metadata": {
        "id": "286292cb-c19f-44d1-a7ac-85ee11b7c3c5"
      },
      "source": [
        "**Expected Error**: `ParseError`  \n",
        "**Reason**: Missing required keyword \"DOSE\" after \"CALCULATE\""
      ]
    },
    {
      "cell_type": "markdown",
      "id": "0334908d-13c4-442d-ad39-744b81e960c0",
      "metadata": {
        "id": "0334908d-13c4-442d-ad39-744b81e960c0"
      },
      "source": [
        "#### Test 11: Parse Error - Wrong Command Structure"
      ]
    },
    {
      "cell_type": "code",
      "execution_count": 72,
      "id": "e5f6181c-6ec5-4aed-95d9-0e09ac1528dd",
      "metadata": {
        "colab": {
          "base_uri": "https://localhost:8080/"
        },
        "id": "e5f6181c-6ec5-4aed-95d9-0e09ac1528dd",
        "outputId": "f91c5bd1-e6b6-4bc7-fde2-cdcf3d7be4b0"
      },
      "outputs": [
        {
          "output_type": "stream",
          "name": "stdout",
          "text": [
            "\n",
            "======================================================================\n",
            "COMMAND: CHECK INTERACTION amlodipine losartan\n",
            "======================================================================\n",
            "❌ ERROR: ParseError\n",
            "Message: Expected keyword 'BETWEEN' at 18 but found 'amlodipine'\n",
            "\n"
          ]
        }
      ],
      "source": [
        "# Test 11: Incorrect command structure\n",
        "display_result(\"CHECK INTERACTION amlodipine losartan\")"
      ]
    },
    {
      "cell_type": "markdown",
      "id": "5813b44d-110e-4b77-bf64-1cb3f3fb4036",
      "metadata": {
        "id": "5813b44d-110e-4b77-bf64-1cb3f3fb4036"
      },
      "source": [
        "**Expected Error**: `ParseError`  \n",
        "**Reason**: Missing \"BETWEEN\" keyword and \"AND\" connector"
      ]
    },
    {
      "cell_type": "markdown",
      "id": "14fcd29d-0ae8-4437-9ee0-cc5ec097b7a6",
      "metadata": {
        "id": "14fcd29d-0ae8-4437-9ee0-cc5ec097b7a6"
      },
      "source": [
        "#### Test 12: Execution Error - Unknown Drug"
      ]
    },
    {
      "cell_type": "code",
      "execution_count": 73,
      "id": "58d6f0e9-31a7-4612-a161-864720dd7b1c",
      "metadata": {
        "colab": {
          "base_uri": "https://localhost:8080/"
        },
        "id": "58d6f0e9-31a7-4612-a161-864720dd7b1c",
        "outputId": "b2c9b03b-e5b1-42a3-9730-a60199ab0340"
      },
      "outputs": [
        {
          "output_type": "stream",
          "name": "stdout",
          "text": [
            "\n",
            "======================================================================\n",
            "COMMAND: CALCULATE DOSE FOR drug=aspirin, condition=pain, weight=70kg\n",
            "======================================================================\n",
            "❌ ERROR: UnknownDrugError\n",
            "Message: Unknown drug: aspirin\n",
            "\n"
          ]
        }
      ],
      "source": [
        "# Test 12: Drug not in knowledge base\n",
        "display_result(\"CALCULATE DOSE FOR drug=aspirin, condition=pain, weight=70kg\")"
      ]
    },
    {
      "cell_type": "markdown",
      "id": "be81865d-30f8-4bc8-a575-7a5db147e96d",
      "metadata": {
        "id": "be81865d-30f8-4bc8-a575-7a5db147e96d"
      },
      "source": [
        "**Expected Error**: `UnknownDrugError`  \n",
        "**Reason**: \"aspirin\" is not in the DRUG_RULES database"
      ]
    },
    {
      "cell_type": "markdown",
      "id": "1889e02e-ae08-4688-9e81-f6dee8a2da1d",
      "metadata": {
        "id": "1889e02e-ae08-4688-9e81-f6dee8a2da1d"
      },
      "source": [
        "#### Test 13: Execution Error - Missing Required Parameter"
      ]
    },
    {
      "cell_type": "code",
      "execution_count": 74,
      "id": "f9983557-dc36-4e72-92c8-cab86efd2d38",
      "metadata": {
        "colab": {
          "base_uri": "https://localhost:8080/"
        },
        "id": "f9983557-dc36-4e72-92c8-cab86efd2d38",
        "outputId": "4d1fb868-c023-4cab-d3a9-526fba63bbce"
      },
      "outputs": [
        {
          "output_type": "stream",
          "name": "stdout",
          "text": [
            "\n",
            "======================================================================\n",
            "COMMAND: CALCULATE DOSE FOR drug=metformin, weight=70kg\n",
            "======================================================================\n",
            "❌ ERROR: ExecutionError\n",
            "Message: Missing parameter: condition\n",
            "\n"
          ]
        }
      ],
      "source": [
        "# Test 13: Missing required parameter\n",
        "display_result(\"CALCULATE DOSE FOR drug=metformin, weight=70kg\")"
      ]
    },
    {
      "cell_type": "markdown",
      "id": "bafa691f-d5eb-4d84-97f5-ee6592b264d4",
      "metadata": {
        "id": "bafa691f-d5eb-4d84-97f5-ee6592b264d4"
      },
      "source": [
        "**Expected Error**: `ExecutionError`  \n",
        "**Reason**: Missing required parameter \"condition\""
      ]
    },
    {
      "cell_type": "markdown",
      "id": "8026b770-16ca-4ce2-99ef-625f4ac9a4bc",
      "metadata": {
        "id": "8026b770-16ca-4ce2-99ef-625f4ac9a4bc"
      },
      "source": [
        "#### Test 14: Execution Error - Invalid Unit"
      ]
    },
    {
      "cell_type": "code",
      "execution_count": 75,
      "id": "0d899d6e-8cc4-4320-8ce9-931dc71dd7c7",
      "metadata": {
        "colab": {
          "base_uri": "https://localhost:8080/"
        },
        "id": "0d899d6e-8cc4-4320-8ce9-931dc71dd7c7",
        "outputId": "4cc1b73a-2d55-4154-93db-60b675706318"
      },
      "outputs": [
        {
          "output_type": "stream",
          "name": "stdout",
          "text": [
            "\n",
            "======================================================================\n",
            "COMMAND: CALCULATE DOSE FOR drug=metformin, condition=diabetes, weight=150lbs\n",
            "======================================================================\n",
            "❌ ERROR: ParseError\n",
            "Message: Expected EQUALS at 68 but found ''\n",
            "\n"
          ]
        }
      ],
      "source": [
        "# Test 14: Unsupported unit\n",
        "display_result(\"CALCULATE DOSE FOR drug=metformin, condition=diabetes, weight=150lbs\")"
      ]
    },
    {
      "cell_type": "markdown",
      "id": "34e48bdd-f85c-45c8-83d6-292c8d36a305",
      "metadata": {
        "id": "34e48bdd-f85c-45c8-83d6-292c8d36a305"
      },
      "source": [
        "**Expected Error**: `ExecutionError`  \n",
        "**Reason**: Weight must be in kg, not lbs"
      ]
    },
    {
      "cell_type": "markdown",
      "id": "6bc85a84-9842-4b72-889a-6c204d5f5bf6",
      "metadata": {
        "id": "6bc85a84-9842-4b72-889a-6c204d5f5bf6"
      },
      "source": [
        "#### Test 15: Parse Error - Unknown Command"
      ]
    },
    {
      "cell_type": "code",
      "source": [
        "# Test 15: Unrecognized command\n",
        "display_result(\"COMPUTE DOSE FOR drug=metformin, condition=hypertension\")"
      ],
      "metadata": {
        "colab": {
          "base_uri": "https://localhost:8080/"
        },
        "id": "abrMhD5mc0Yh",
        "outputId": "b004747a-774d-46ae-e040-7c97862df280"
      },
      "id": "abrMhD5mc0Yh",
      "execution_count": 76,
      "outputs": [
        {
          "output_type": "stream",
          "name": "stdout",
          "text": [
            "\n",
            "======================================================================\n",
            "COMMAND: COMPUTE DOSE FOR drug=metformin, condition=hypertension\n",
            "======================================================================\n",
            "❌ ERROR: ParseError\n",
            "Message: Unknown command starting at 0: 'compute'\n",
            "\n"
          ]
        }
      ]
    },
    {
      "cell_type": "markdown",
      "id": "ade4ac97-6b06-4923-a633-6d3b6f833e32",
      "metadata": {
        "id": "ade4ac97-6b06-4923-a633-6d3b6f833e32"
      },
      "source": [
        "**Expected Error**: `ParseError`  \n",
        "**Reason**: \"COMPUTE\" is not a valid command keyword"
      ]
    },
    {
      "cell_type": "markdown",
      "id": "c77a4dac-60cb-4fb0-a792-a6a5c74a3418",
      "metadata": {
        "id": "c77a4dac-60cb-4fb0-a792-a6a5c74a3418"
      },
      "source": [
        "### Test Summary\n",
        "\n",
        "The test cases demonstrate:\n",
        "1. **Correctness**: Valid commands produce accurate, clinically appropriate results\n",
        "2. **Robustness**: Invalid inputs are caught and reported with clear error messages\n",
        "3. **Safety**: Dose calculations respect safety limits and raise alerts when exceeded\n",
        "4. **Adjustments**: Patient-specific factors (age, renal function) are properly accounted for\n",
        "5. **Error Handling**: All three error categories (lexical, parse, execution) are properly handled\n",
        "\n",
        "The interpreter successfully fulfills its core requirements:\n",
        "- **Tokenization**: Lexer correctly identifies all language elements\n",
        "- **Parsing**: Grammar rules are enforced and violations detected\n",
        "- **Execution**: Commands produce correct outputs\n",
        "- **Error Handling**: System never crashes; always provides informative error messages"
      ]
    },
    {
      "cell_type": "markdown",
      "id": "4c28cedc-5c58-4dac-a69b-5f3e4aeab190",
      "metadata": {
        "id": "4c28cedc-5c58-4dac-a69b-5f3e4aeab190"
      },
      "source": [
        "---\n",
        "## Section 7: Extensions and Additional Features\n",
        "\n",
        "Beyond the core interpreter requirements, our system includes several **advanced features**:\n",
        "\n",
        "### 7.1 Regimen Tracking\n",
        "\n",
        "The interpreter includes a **state management system** that:\n",
        "- Records all dose calculations made\n",
        "- Stores medication history in JSON format\n",
        "\n",
        "**Clinical Value**: Enables longitudinal medication monitoring, supporting continuity of care and adherence tracking.\n",
        "\n",
        "### 7.2 Safety Alert System\n",
        "\n",
        "The system implements **automated safety threshold monitoring**:\n",
        "- Computes dose-to-limit ratios\n",
        "- Raises `SafetyLimitExceeded` exceptions for critical violations\n",
        "- Provides both warning alerts (in results) and hard stops (via `run_and_raise_on_alert()`)\n",
        "\n",
        "**Clinical Value**: Prevents medication errors by enforcing evidence-based dosing limits.\n",
        "\n",
        "### 7.3 Multi-Factor Dose Adjustments\n",
        "\n",
        "Unlike simple calculators, our interpreter applies **cumulative adjustment factors** for:\n",
        "- **Renal impairment**: Reduced clearance requires dose reduction\n",
        "- **Elderly patients** (≥65 years): Age-related physiological changes\n",
        "- **Weight-based scaling**: Individualized dosing for appropriate drug levels\n",
        "\n",
        "**Clinical Value**: Personalizes therapy based on patient-specific pharmacokinetics.\n",
        "\n",
        "### 7.4 Drug Interaction Checking\n",
        "\n",
        "The system includes a **drug-drug interaction database** with:\n",
        "- Pairwise interaction lookup\n",
        "- Clinical significance ratings\n",
        "- Mechanism-of-action explanations\n",
        "\n",
        "**Clinical Value**: Reduces adverse drug events from polypharmacy.\n",
        "\n",
        "### 7.5 Comprehensive Error Reporting\n",
        "\n",
        "All errors include:\n",
        "- **Error type classification** (lexical, parse, execution)\n",
        "- **Position information** (for syntax errors)\n",
        "- **Context-specific messages** (e.g., which parameter is missing)\n",
        "\n",
        "**Usability Value**: Helps users quickly identify and correct input errors.\n",
        "\n",
        "### Future Enhancement Possibilities\n",
        "\n",
        "1. **Variables**: Store and reuse patient parameters across commands\n",
        "2. **Conditionals**: Implement `IF-THEN-ELSE` logic for complex decision rules\n",
        "3. **Loops**: Batch process multiple patients\n",
        "4. **Database Integration**: Replace JSON with SQL database for production use\n",
        "5. **Natural Language Processing**: Allow free-text input conversion to structured commands\n",
        "6. **Clinical Guidelines Engine**: Encode full treatment protocols (e.g., hypertension management algorithms)\n",
        "7. **Allergy Checking**: Cross-reference prescribed drugs against patient allergy profiles\n",
        "8. **Lab Value Integration**: Auto-adjust doses based on real-time creatinine clearance, liver function tests"
      ]
    },
    {
      "cell_type": "markdown",
      "id": "d963d9d8-86c3-4f55-b3bd-a8cf842098b9",
      "metadata": {
        "id": "d963d9d8-86c3-4f55-b3bd-a8cf842098b9"
      },
      "source": [
        "---\n",
        "## Section 8: Insights and Conclusions\n",
        "\n",
        "### What We Learned\n",
        "\n",
        "#### Technical Insights\n",
        "\n",
        "1. **Interpreter Design is Modular**  \n",
        "   The clean separation between lexer, parser, and executor made development, testing, and debugging straightforward. Each component could be developed and tested independently.\n",
        "\n",
        "2. **Error Handling is Critical**  \n",
        "   In a medical application, clear error messages aren't just convenient—they're essential for patient safety. Our hierarchical exception system allows precise identification of failure points.\n",
        "\n",
        "3. **Domain Knowledge Encoding**  \n",
        "   Translating medical dosing guidelines into algorithmic rules required careful attention to clinical nuances (adjustment factors, safety limits, drug interactions).\n",
        "\n",
        "4. **Testing Saves Lives**  \n",
        "   In healthcare software, comprehensive testing isn't optional. Our test suite validates both normal operations and edge cases (e.g., extreme weights, polypharmacy).\n",
        "\n",
        "#### Domain Insights\n",
        "\n",
        "1. **Medication Management is Complex**  \n",
        "   Safe prescribing requires considering drug properties, patient characteristics, drug interactions, and therapeutic goals simultaneously.\n",
        "\n",
        "2. **Automation Reduces Errors**  \n",
        "   Manual dose calculations are error-prone. An interpreter standardizes calculations and enforces safety checks consistently.\n",
        "\n",
        "3. **Context Matters**  \n",
        "   The same drug requires different doses depending on indication, patient age, renal function, and other factors—highlighting the need for flexible, rule-based systems.\n",
        "\n",
        "### Strengths of Our Interpreter\n",
        "\n",
        "✅ **Clear, Medical-Friendly Syntax**: Readable by healthcare professionals  \n",
        "✅ **Comprehensive Safety Checks**: Enforces evidence-based dosing limits  \n",
        "✅ **Flexible Architecture**: Easy to add new drugs and rules  \n",
        "✅ **Robust Error Handling**: Never crashes; always provides actionable feedback  \n",
        "✅ **Clinically Relevant**: Addresses real-world medication management challenges  \n",
        "✅ **Well-Documented**: Code includes detailed comments and docstrings  \n",
        "✅ **Thoroughly Tested**: Covers valid inputs, invalid inputs, and edge cases  \n",
        "\n",
        "### Limitations and Areas for Improvement\n",
        "\n",
        "⚠️ **Limited Drug Database**: Currently supports 10 drugs; production system would need hundreds  \n",
        "⚠️ **Simple Interaction Model**: Only checks pairwise interactions; doesn't model complex 3+ drug combinations  \n",
        "⚠️ **No Allergy Checking**: Doesn't cross-reference patient allergy profiles  \n",
        "⚠️ **Static Rules**: Dosing guidelines are hard-coded; updating requires code changes  \n",
        "⚠️ **No Lab Integration**: Can't auto-fetch real-time creatinine clearance, liver enzymes, etc.  \n",
        "⚠️ **English-Only**: Commands must be in English (could support multilingual input)  \n",
        "⚠️ **File-Based State**: JSON storage isn't suitable for multi-user production environments  \n",
        "\n",
        "### Suggested Future Improvements\n",
        "\n",
        "1. **Database Backend**: Migrate drug rules and patient data to PostgreSQL/MongoDB\n",
        "2. **Web API**: Expose interpreter via REST API for EHR system integration\n",
        "3. **Machine Learning**: Train models on historical prescribing data to suggest optimal regimens\n",
        "4. **Clinical Guidelines Engine**: Encode full treatment protocols (e.g., AHA/ACC hypertension guidelines)\n",
        "5. **Audit Logging**: Track all commands for regulatory compliance and quality assurance\n",
        "6. **User Authentication**: Role-based access control (physician, pharmacist, nurse)\n",
        "7. **Real-Time Alerts**: Push notifications for critical drug interactions or safety violations\n",
        "8. **Mobile App**: Develop iOS/Android interface for bedside use\n",
        "\n",
        "### Conclusion\n",
        "\n",
        "This project successfully demonstrates the design and implementation of a **domain-specific language interpreter for medical prescription management**. The system fulfills all core requirements:\n",
        "- ✅ Tokenization (lexical analysis)\n",
        "- ✅ Parsing (syntax validation)\n",
        "- ✅ Execution (command processing)\n",
        "- ✅ Error handling (graceful failure with informative messages)\n",
        "\n",
        "Beyond the basics, we've implemented clinically valuable extensions including safety alerts, patient tracking, and drug interaction checking.\n",
        "\n",
        "The interpreter serves as a proof-of-concept for **clinical decision support systems** that could reduce medication errors, improve prescribing safety, and enhance patient outcomes. With further development, this architecture could be deployed in real-world healthcare settings to support evidence-based, personalized medication management.\n",
        "\n",
        "**Key Takeaway**: Interpreters aren't just for general-purpose programming languages—they're powerful tools for encoding domain-specific expertise in any field where structured commands must be validated and executed reliably."
      ]
    },
    {
      "cell_type": "markdown",
      "id": "3c7b18b1-5582-4b91-8e03-62b92526aa62",
      "metadata": {
        "id": "3c7b18b1-5582-4b91-8e03-62b92526aa62"
      },
      "source": [
        "## Section 9: References\n",
        "\n",
        "### Medical and Clinical References\n",
        "\n",
        "1. **World Health Organization. (2024).** *Medication Without Harm Initiative*.  \n",
        "   https://www.who.int/initiatives/medication-without-harm  \n",
        "   - **Usage**: Foundational justification for the project. Documents the $42 billion annual global cost of medication errors and WHO's goal to reduce medication-related harm by 50%. Used to establish clinical need for automated prescription safety tools.\n",
        "\n",
        "2. **Kyriakopoulos, C., & Gupta, V. (2024, July 27).** *Renal failure drug dose adjustments*. StatPearls - NCBI Bookshelf.  \n",
        "   https://www.ncbi.nlm.nih.gov/books/NBK560512/  \n",
        "   - **Usage**: Clinical evidence for renal dose adjustment factors implemented in DRUG_RULES. Guided the renal_adjust_factor values (0.5-0.8) for medications requiring dose reduction in kidney impairment.\n",
        "\n",
        "3. **Tariq, R. A., Vashisht, R., Sinha, A., & Scherbak, Y. (2024, February 12).** *Medication dispensing errors and prevention*. StatPearls - NCBI Bookshelf.  \n",
        "   https://www.ncbi.nlm.nih.gov/books/NBK519065/  \n",
        "   - **Usage**: Referenced for error prevention strategies and the role of clinical decision support systems. Supports the design rationale for automated dose calculation and safety alert systems.\n",
        "\n",
        "### Online Resources and Tutorials\n",
        "\n",
        "4. **Python Software Foundation. (2024).** *Python 3.10 Documentation: Regular Expression HOWTO*.  \n",
        "   https://docs.python.org/3/howto/regex.html  \n",
        "   - **Usage**: Guided regex pattern design for lexer tokenization, particularly for handling compound units (e.g., mg/kg/day).\n",
        "\n",
        "5. **Real Python. (2023).** \"Building a Lexer in Python.\"  \n",
        "   https://realpython.com/  \n",
        "   - **Usage**: Provided practical examples of token specification and regex-based lexer implementation in Python.\n",
        "\n",
        "6. **GeeksforGeeks. (2023).** \"Recursive Descent Parser.\"  \n",
        "   https://www.geeksforgeeks.org/recursive-descent-parser/  \n",
        "   - **Usage**: Referenced for understanding recursive descent parsing implementation details and best practices.\n",
        "\n",
        "### Artificial Intelligence (AI) Tools\n",
        "\n",
        "7. **ChatGPT (OpenAI). (2025).**   \n",
        "   https://openai.com/chatgpt  \n",
        "   - **Usage**: Assisted in generating system architecture diagrams, refining code snippets, and enhancing the overall clarity and structure of the Medical Dosage Calculation Interpreter project. Conversations with ChatGPT were used for troubleshooting, code optimization, and gathering ideas for user command handling and error checking.\n",
        "\n",
        "8. **Claude (Anthropic). (2025).**  \n",
        "   https://www.anthropic.com/claude  \n",
        "   - **Usage**: Used to review system design decisions, help with understanding complex medical terminology, and generate the logical flow of interactions between the lexer, parser, and executor. Claude also helped in clarifying best practices for error handling and exception management.\n",
        "\n",
        "9. **Perplexity AI. (2025).**   \n",
        "   https://www.perplexity.ai/  \n",
        "   - **Usage**: Leveraged for exploring various AI-based strategies for improving the interpreter's decision-making process. It provided insights into better integrating rule-based systems and handling ambiguous medical terms in the interpreter's input.\n"
      ]
    },
    {
      "cell_type": "markdown",
      "source": [
        "### ⚠️Disclaimer\n",
        "\n",
        "The Medical Dosage Calculation Interpreter presented in this project is a **proof of concept** developed for educational purposes under the **CSS125L - Principles of Programming Languages Laboratory** course. While the system aims to improve medication dosage calculations and safety checks, it **should not be used as a substitute** for professional medical advice, diagnosis, or treatment. The tool is designed to assist healthcare professionals but must be **verified** and **supervised** in a clinical setting.\n",
        "\n",
        "This interpreter has been built with a limited set of medications, and further enhancements are needed for real-world clinical deployment, including an expanded drug database, real-time patient data integration, and regulatory compliance. The developers and contributors do not accept any liability for any harm, errors, or omissions resulting from the use of this system in clinical or real-life scenarios.\n",
        "\n",
        "For full functionality, the system requires further testing, validation, and integration with existing healthcare platforms.\n"
      ],
      "metadata": {
        "id": "hCjV5w5ViUBU"
      },
      "id": "hCjV5w5ViUBU"
    },
    {
      "cell_type": "markdown",
      "id": "299b3157-ef0b-4c11-8cb8-d0fdbc08fb71",
      "metadata": {
        "id": "299b3157-ef0b-4c11-8cb8-d0fdbc08fb71"
      },
      "source": [
        "---\n",
        "## Project Information\n",
        "\n",
        "**Group: Software Bros And Programming Nerds (SBAPN)**\n",
        "**Members:**\n",
        "- Besario, Adrian\n",
        "- Macatangay, Robin\n",
        "- Magat, Rolando\n",
        "- Villosa, Emmanuel  \n",
        "**Course**: CSS 125L - Principles of Programming Languages Laboratory  \n",
        "**Instructor**: [Ms. Comia]  \n",
        "**Date**: October 28, 2025  \n",
        "\n",
        "---\n",
        "\n",
        "**Certification of Originality**\n",
        "\n",
        "We certify that this project represents our own work. All external references have been properly cited. We understand and accept the academic honesty policies outlined in the course syllabus.\n",
        "\n",
        "---\n",
        "\n",
        "*End of Notebook*"
      ]
    }
  ],
  "metadata": {
    "kernelspec": {
      "display_name": "Python 3 (ipykernel)",
      "language": "python",
      "name": "python3"
    },
    "language_info": {
      "codemirror_mode": {
        "name": "ipython",
        "version": 3
      },
      "file_extension": ".py",
      "mimetype": "text/x-python",
      "name": "python",
      "nbconvert_exporter": "python",
      "pygments_lexer": "ipython3",
      "version": "3.12.7"
    },
    "colab": {
      "provenance": []
    }
  },
  "nbformat": 4,
  "nbformat_minor": 5
}